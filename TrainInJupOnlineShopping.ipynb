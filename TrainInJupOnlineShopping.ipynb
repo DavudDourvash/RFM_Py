{
 "cells": [
  {
   "cell_type": "code",
   "id": "initial_id",
   "metadata": {
    "collapsed": true,
    "ExecuteTime": {
     "end_time": "2025-04-17T08:37:48.144507Z",
     "start_time": "2025-04-17T08:37:48.123764Z"
    }
   },
   "source": [
    "# import pkgs\n",
    "import pandas as pd\n",
    "import glob\n",
    "import locale\n",
    "import numpy as np\n",
    "from datetime import date\n",
    "\n",
    "locale.setlocale(locale.LC_ALL, 'fa_IR.UTF-8')\n"
   ],
   "outputs": [
    {
     "data": {
      "text/plain": [
       "'fa_IR.UTF-8'"
      ]
     },
     "execution_count": 96,
     "metadata": {},
     "output_type": "execute_result"
    }
   ],
   "execution_count": 96
  },
  {
   "metadata": {
    "ExecuteTime": {
     "end_time": "2025-04-17T08:37:48.446809Z",
     "start_time": "2025-04-17T08:37:48.436801Z"
    }
   },
   "cell_type": "code",
   "source": [
    "# Functions\n",
    "\n",
    "def quantile_score(vec, score):\n",
    "    scorevec = np.zeros(len(vec))\n",
    "    qu = np.quantile(vec, np.linspace(0, 1, score + 1))\n",
    "    scorevec[(vec <= qu[1]) & (vec >= qu[0])] = 1\n",
    "    for i in range(1, score - 1):\n",
    "        scorevec[(vec <= qu[i + 1]) & (vec > qu[i])] = i + 1\n",
    "    scorevec[vec > qu[score]] = score\n",
    "    return scorevec\n",
    "\n",
    "def generate_dates(years, months, days30, days31):\n",
    "    dates = []\n",
    "    for month in months:\n",
    "        if month in Months:\n",
    "            dates.append(f\"{years}{month}{days31}\")\n",
    "        else:\n",
    "            dates.append(f\"{years}{month}{days30}\")\n",
    "    return dates\n"
   ],
   "id": "34ae08d3e8821963",
   "outputs": [],
   "execution_count": 97
  },
  {
   "metadata": {
    "ExecuteTime": {
     "end_time": "2025-04-17T08:37:48.984587Z",
     "start_time": "2025-04-17T08:37:48.971472Z"
    }
   },
   "cell_type": "code",
   "source": [
    "# Parameters\n",
    "\n",
    "start_date_jalali = 14030601\n",
    "target_date_jalali = 14031130\n",
    "start_date = date(2024, 8, 22)  # Start train\n",
    "target_date = date(2025, 2, 18)  # End train\n",
    "moduleSelected = \"Onlineshopping\"\n"
   ],
   "id": "d0d05f6cc4e34a8b",
   "outputs": [],
   "execution_count": 98
  },
  {
   "metadata": {
    "ExecuteTime": {
     "end_time": "2025-04-17T08:37:54.326068Z",
     "start_time": "2025-04-17T08:37:49.669116Z"
    }
   },
   "cell_type": "code",
   "source": [
    "# Read Data\n",
    "# Folder containing Parquet files\n",
    "folder_path = \"Data/data/*.parquet\"\n",
    "\n",
    "# List all parquet files\n",
    "parquet_files = glob.glob(folder_path)\n",
    "\n",
    "# Read and concatenate all files\n",
    "df = pd.concat([pd.read_parquet(f) for f in parquet_files], ignore_index=True)\n",
    "\n",
    "DimDate = pd.read_csv(\"Data/data/DimDate.csv\")\n"
   ],
   "id": "ab25330ff063956a",
   "outputs": [],
   "execution_count": 99
  },
  {
   "metadata": {
    "ExecuteTime": {
     "end_time": "2025-04-17T08:38:02.126679Z",
     "start_time": "2025-04-17T08:37:54.326068Z"
    }
   },
   "cell_type": "code",
   "source": [
    "# Date Manipulations and Preperations\n",
    "DimDateS = DimDate[[\"Miladi3\", \"Jalali_1\"]]\n",
    "# Convert Miladi column to string\n",
    "DimDateS[\"Miladi3\"] = DimDateS[\"Miladi3\"].astype(str)\n",
    "DimDateS.rename(columns={\"Miladi3\": \"date_CHR\"}, inplace=True)\n",
    "\n",
    "\n",
    "df['date_CHR'] = df['date'].astype(str)\n",
    "\n",
    "# Left join on Miladi_Num\n",
    "df = df.merge(DimDateS, on=\"date_CHR\", how=\"left\")\n",
    "\n",
    "# Create Shamsi_Date and convert to numeric\n",
    "df[\"Shamsi_Date_Num\"] = (df[\"Jalali_1\"].str[:4] + df[\"Jalali_1\"].str[5:7] + df[\"Jalali_1\"].str[8:10]).astype(int)\n",
    "\n"
   ],
   "id": "8ca4e7b8e4434c85",
   "outputs": [
    {
     "name": "stderr",
     "output_type": "stream",
     "text": [
      "C:\\Users\\BiG\\AppData\\Local\\Temp\\ipykernel_14852\\620624324.py:4: SettingWithCopyWarning: \n",
      "A value is trying to be set on a copy of a slice from a DataFrame.\n",
      "Try using .loc[row_indexer,col_indexer] = value instead\n",
      "\n",
      "See the caveats in the documentation: https://pandas.pydata.org/pandas-docs/stable/user_guide/indexing.html#returning-a-view-versus-a-copy\n",
      "  DimDateS[\"Miladi3\"] = DimDateS[\"Miladi3\"].astype(str)\n",
      "C:\\Users\\BiG\\AppData\\Local\\Temp\\ipykernel_14852\\620624324.py:5: SettingWithCopyWarning: \n",
      "A value is trying to be set on a copy of a slice from a DataFrame\n",
      "\n",
      "See the caveats in the documentation: https://pandas.pydata.org/pandas-docs/stable/user_guide/indexing.html#returning-a-view-versus-a-copy\n",
      "  DimDateS.rename(columns={\"Miladi3\": \"date_CHR\"}, inplace=True)\n"
     ]
    }
   ],
   "execution_count": 100
  },
  {
   "metadata": {
    "ExecuteTime": {
     "end_time": "2025-04-17T08:38:28.191098Z",
     "start_time": "2025-04-17T08:38:27.240580Z"
    }
   },
   "cell_type": "code",
   "source": [
    "# Filter & Select Trains\n",
    "# Assuming df is already a pandas DataFrame\n",
    "TrainRFM = df[df[\"module\"] == moduleSelected]\n",
    "\n",
    "TrainRFM = TrainRFM[TrainRFM[\"payment_status\"] == \"payed\"]\n",
    "TrainRFM = TrainRFM[TrainRFM[\"status\"] == \"finished\"]\n",
    "\n",
    "print(TrainRFM.columns)\n",
    "print(TrainRFM.shape)\n",
    "\n",
    "# select data for modeling\n",
    "TrainRFM = TrainRFM[['user_id', '_id', 'initial_total', 'module','Shamsi_Date_Num', 'date']]\n",
    "\n",
    "# print(TrainRFM.head(5))"
   ],
   "id": "fa653e668f4de066",
   "outputs": [
    {
     "name": "stdout",
     "output_type": "stream",
     "text": [
      "Index(['_id', 'user_id', 'date', 'client_type', 'status', 'payment_status',\n",
      "       'type', 'module', 'product_name', 'initial_total', 'product_price',\n",
      "       'converted_value', 'qty', 'module_unit_price', 'Amount_in_dollars',\n",
      "       'first_purchased', 'date_CHR', 'Jalali_1', 'Shamsi_Date_Num'],\n",
      "      dtype='object')\n",
      "(503726, 19)\n"
     ]
    }
   ],
   "execution_count": 102
  },
  {
   "metadata": {
    "ExecuteTime": {
     "end_time": "2025-04-17T08:41:23.530238Z",
     "start_time": "2025-04-17T08:41:20.821923Z"
    }
   },
   "cell_type": "code",
   "source": [
    "# make R, F, M, L\n",
    "\n",
    "# !pip install jdatetime\n",
    "import jdatetime\n",
    "import datetime\n",
    "from datetime import date\n",
    "# from datetime import datetime\n",
    "\n",
    "# Group by user_id and calculate min and max dates\n",
    "TrainRFM_RB = TrainRFM.groupby(\"user_id\", as_index=False).agg(\n",
    "    minDate=(\"Shamsi_Date_Num\", \"min\"),\n",
    "    maxDate=(\"Shamsi_Date_Num\", \"max\")\n",
    ")\n",
    "\n",
    "\n",
    "\n",
    "def jalali_to_miladi(jalali_date):\n",
    "    # Extract year, month, day from the integer Jalali date\n",
    "    year = jalali_date // 10000\n",
    "    month = (jalali_date % 10000) // 100\n",
    "    day = jalali_date % 100\n",
    "\n",
    "    # Convert to Gregorian using jdatetime\n",
    "    gregorian_date = jdatetime.date(year, month, day).togregorian()\n",
    "\n",
    "    # Return formatted Gregorian date\n",
    "    return gregorian_date\n",
    "\n",
    "\n",
    "\n",
    "\n",
    "TrainRFM_RB['minDate_Miladi'] = TrainRFM_RB['minDate'].apply(jalali_to_miladi)\n",
    "TrainRFM_RB['maxDate_Miladi'] = TrainRFM_RB['maxDate'].apply(jalali_to_miladi)\n",
    "\n",
    "# TrainRFM_RB['maxDate_Miladi'] = TrainRFM_RB['maxDate_Miladi'].apply(\n",
    "#     lambda x: datetime.strptime(x, '%Y-%m-%d').date()\n",
    "# )\n",
    "\n",
    "TrainRFM_RB = TrainRFM_RB[\n",
    "    (TrainRFM_RB['maxDate'] >= start_date_jalali) & (TrainRFM_RB['maxDate'] <= target_date_jalali)]\n",
    "\n",
    "TrainRFM_RB['R'] = TrainRFM_RB['maxDate_Miladi'].apply(lambda d: (target_date - d).days)\n"
   ],
   "id": "b623e7ebce0a865f",
   "outputs": [],
   "execution_count": 104
  },
  {
   "metadata": {
    "ExecuteTime": {
     "end_time": "2025-04-17T08:41:27.641646Z",
     "start_time": "2025-04-17T08:41:27.398957Z"
    }
   },
   "cell_type": "code",
   "source": [
    "# calculate F\n",
    "TrainRFM_FB = TrainRFM.groupby('user_id').size().reset_index(name='F')\n",
    "\n",
    "TrainRFM_RFB = TrainRFM_RB.merge(TrainRFM_FB, how='left', on='user_id')\n"
   ],
   "id": "480f108c67785209",
   "outputs": [],
   "execution_count": 105
  },
  {
   "metadata": {
    "ExecuteTime": {
     "end_time": "2025-04-17T08:41:28.120526Z",
     "start_time": "2025-04-17T08:41:27.820636Z"
    }
   },
   "cell_type": "code",
   "source": [
    "# Calculate M\n",
    "\n",
    "TrainRFM_MB = TrainRFM.groupby('user_id').agg(M=('initial_total', 'sum')).reset_index()\n",
    "\n",
    "TrainRFMRFMB = TrainRFM_RFB.merge(TrainRFM_MB, on='user_id', how='left')\n",
    "\n",
    "TrainRFMRFMB['M'] = TrainRFMRFMB['M'].astype(float).astype(int)\n"
   ],
   "id": "5f618a997d2ee65e",
   "outputs": [],
   "execution_count": 106
  },
  {
   "metadata": {
    "ExecuteTime": {
     "end_time": "2025-04-17T08:41:29.632547Z",
     "start_time": "2025-04-17T08:41:29.414727Z"
    }
   },
   "cell_type": "code",
   "source": [
    "#Calculate L\n",
    "\n",
    "TrainRFMRFMBL = TrainRFMRFMB\n",
    "\n",
    "TrainRFMRFMBL['L'] = TrainRFMRFMBL.apply(lambda row: (row['maxDate_Miladi'] - row['minDate_Miladi']).days, axis=1) + 1\n"
   ],
   "id": "db657ec753361adc",
   "outputs": [],
   "execution_count": 107
  },
  {
   "metadata": {
    "ExecuteTime": {
     "end_time": "2025-04-17T08:41:30.143548Z",
     "start_time": "2025-04-17T08:41:30.128490Z"
    }
   },
   "cell_type": "code",
   "source": [
    "# Score R, F, M\n",
    "\n",
    "# R\n",
    "TrainRFMRFMBL['R_Norm'] = (TrainRFMRFMBL['R'] - TrainRFMRFMBL['R'].min()) / (TrainRFMRFMBL['R'].max() - TrainRFMRFMBL['R'].min())\n",
    "\n",
    "TrainRFMRFMBL['RNormScore'] = quantile_score(TrainRFMRFMBL['R_Norm'], 5)\n",
    "\n",
    "TrainRFMRFMBL['RNormScore'] = 6 - TrainRFMRFMBL['RNormScore']\n",
    "\n",
    "\n",
    "\n"
   ],
   "id": "d0e29dbf72f9e4cf",
   "outputs": [],
   "execution_count": 108
  },
  {
   "metadata": {
    "ExecuteTime": {
     "end_time": "2025-04-17T08:41:35.623454Z",
     "start_time": "2025-04-17T08:41:35.598991Z"
    }
   },
   "cell_type": "code",
   "source": "print(TrainRFMRFMBL['M'].value_counts().sort_values(ascending=False))",
   "id": "ad9bbdcda68bd4c1",
   "outputs": [
    {
     "name": "stdout",
     "output_type": "stream",
     "text": [
      "M\n",
      "-2147483648    605\n",
      " 7962870        58\n",
      " 17241000       55\n",
      " 12873000       49\n",
      " 14763000       47\n",
      "              ... \n",
      " 279599968       1\n",
      " 10843000        1\n",
      " 71718000        1\n",
      " 40527000        1\n",
      " 38210122        1\n",
      "Name: count, Length: 28663, dtype: int64\n"
     ]
    }
   ],
   "execution_count": 109
  },
  {
   "metadata": {},
   "cell_type": "code",
   "outputs": [],
   "execution_count": null,
   "source": "",
   "id": "756b0b23f47fb21f"
  }
 ],
 "metadata": {
  "kernelspec": {
   "display_name": "Python 3",
   "language": "python",
   "name": "python3"
  },
  "language_info": {
   "codemirror_mode": {
    "name": "ipython",
    "version": 2
   },
   "file_extension": ".py",
   "mimetype": "text/x-python",
   "name": "python",
   "nbconvert_exporter": "python",
   "pygments_lexer": "ipython2",
   "version": "2.7.6"
  }
 },
 "nbformat": 4,
 "nbformat_minor": 5
}
