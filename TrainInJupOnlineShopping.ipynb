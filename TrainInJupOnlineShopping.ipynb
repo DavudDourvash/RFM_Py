{
 "cells": [
  {
   "cell_type": "code",
   "id": "initial_id",
   "metadata": {
    "collapsed": true,
    "ExecuteTime": {
     "end_time": "2025-04-17T08:23:55.363402Z",
     "start_time": "2025-04-17T08:23:55.356509Z"
    }
   },
   "source": [
    "# import pkgs\n",
    "import pandas as pd\n",
    "import glob\n",
    "import locale\n",
    "import numpy as np\n",
    "from datetime import date\n",
    "\n",
    "locale.setlocale(locale.LC_ALL, 'fa_IR.UTF-8')\n"
   ],
   "outputs": [
    {
     "data": {
      "text/plain": [
       "'fa_IR.UTF-8'"
      ]
     },
     "execution_count": 76,
     "metadata": {},
     "output_type": "execute_result"
    }
   ],
   "execution_count": 76
  },
  {
   "metadata": {
    "ExecuteTime": {
     "end_time": "2025-04-17T08:23:55.690584Z",
     "start_time": "2025-04-17T08:23:55.675508Z"
    }
   },
   "cell_type": "code",
   "source": [
    "# Functions\n",
    "\n",
    "def quantile_score(vec, score):\n",
    "    scorevec = np.zeros(len(vec))\n",
    "    qu = np.quantile(vec, np.linspace(0, 1, score + 1))\n",
    "    scorevec[(vec <= qu[1]) & (vec >= qu[0])] = 1\n",
    "    for i in range(1, score - 1):\n",
    "        scorevec[(vec <= qu[i + 1]) & (vec > qu[i])] = i + 1\n",
    "    scorevec[vec > qu[score]] = score\n",
    "    return scorevec\n",
    "\n",
    "def generate_dates(years, months, days30, days31):\n",
    "    dates = []\n",
    "    for month in months:\n",
    "        if month in Months:\n",
    "            dates.append(f\"{years}{month}{days31}\")\n",
    "        else:\n",
    "            dates.append(f\"{years}{month}{days30}\")\n",
    "    return dates\n"
   ],
   "id": "34ae08d3e8821963",
   "outputs": [],
   "execution_count": 77
  },
  {
   "metadata": {
    "ExecuteTime": {
     "end_time": "2025-04-17T08:23:56.340758Z",
     "start_time": "2025-04-17T08:23:56.331550Z"
    }
   },
   "cell_type": "code",
   "source": [
    "# Parameters\n",
    "\n",
    "start_date_jalali = 14030601\n",
    "target_date_jalali = 14031130\n",
    "start_date = date(2024, 8, 22)  # Start train\n",
    "target_date = date(2025, 2, 18)  # End train\n",
    "moduleSelected = \"Onlineshopping\"\n",
    "\n",
    "# Years = [\"1403\"]\n",
    "# Months = [\"{:02d}\".format(i) for i in range(1, 13)]  # Generates \"01\" to \"12\"\n",
    "# Days30 = [\"{:02d}\".format(i) for i in range(1, 31)]  # Generates \"01\" to \"30\"\n",
    "# Days31 = [\"{:02d}\".format(i) for i in range(1, 32)]  # Generates \"01\" to \"31\"\n",
    "#\n",
    "# print(\"Years:\", Years)\n",
    "# print(\"Months:\", Months)\n",
    "# print(\"Days30:\", Days30)\n",
    "# print(\"Days31:\", Days31)\n",
    "#\n",
    "# main_dates = generate_dates(Years, Months, Days30, Days31)\n",
    "# # Remove specific dates\n",
    "# excluded_dates = {14021031, 14021131, 14021231, 14030731, 14030831, 14030931, 14031031, 14031131, 14031231}\n",
    "# main_dates = [date for date in main_dates if date not in excluded_dates]"
   ],
   "id": "d0d05f6cc4e34a8b",
   "outputs": [],
   "execution_count": 78
  },
  {
   "metadata": {
    "ExecuteTime": {
     "end_time": "2025-04-17T08:24:02.662771Z",
     "start_time": "2025-04-17T08:23:57.716337Z"
    }
   },
   "cell_type": "code",
   "source": [
    "# Read Data\n",
    "# Folder containing Parquet files\n",
    "folder_path = \"Data/data/*.parquet\"\n",
    "\n",
    "# List all parquet files\n",
    "parquet_files = glob.glob(folder_path)\n",
    "\n",
    "# Read and concatenate all files\n",
    "df = pd.concat([pd.read_parquet(f) for f in parquet_files], ignore_index=True)\n",
    "\n",
    "DimDate = pd.read_csv(\"Data/data/DimDate.csv\")\n"
   ],
   "id": "ab25330ff063956a",
   "outputs": [],
   "execution_count": 79
  },
  {
   "metadata": {
    "ExecuteTime": {
     "end_time": "2025-04-17T08:22:32.634607Z",
     "start_time": "2025-04-17T08:22:27.249011Z"
    }
   },
   "cell_type": "code",
   "source": [
    "# Select specific columns\n",
    "DimDateS = DimDate[[\"Miladi3\", \"Jalali_1\"]]\n",
    "# Convert Miladi column to string\n",
    "DimDateS[\"Miladi3\"] = DimDateS[\"Miladi3\"].astype(str)\n",
    "DimDateS.rename(columns={\"Miladi3\": \"date_CHR\"}, inplace=True)\n",
    "\n",
    "\n",
    "df['date_CHR'] = df['date'].astype(str)\n",
    "\n",
    "# Left join on Miladi_Num\n",
    "df = df.merge(DimDateS, on=\"date_CHR\", how=\"left\")\n"
   ],
   "id": "8ca4e7b8e4434c85",
   "outputs": [
    {
     "name": "stderr",
     "output_type": "stream",
     "text": [
      "C:\\Users\\BiG\\AppData\\Local\\Temp\\ipykernel_14852\\1243360310.py:4: SettingWithCopyWarning: \n",
      "A value is trying to be set on a copy of a slice from a DataFrame.\n",
      "Try using .loc[row_indexer,col_indexer] = value instead\n",
      "\n",
      "See the caveats in the documentation: https://pandas.pydata.org/pandas-docs/stable/user_guide/indexing.html#returning-a-view-versus-a-copy\n",
      "  DimDateS[\"Miladi3\"] = DimDateS[\"Miladi3\"].astype(str)\n",
      "C:\\Users\\BiG\\AppData\\Local\\Temp\\ipykernel_14852\\1243360310.py:5: SettingWithCopyWarning: \n",
      "A value is trying to be set on a copy of a slice from a DataFrame\n",
      "\n",
      "See the caveats in the documentation: https://pandas.pydata.org/pandas-docs/stable/user_guide/indexing.html#returning-a-view-versus-a-copy\n",
      "  DimDateS.rename(columns={\"Miladi3\": \"date_CHR\"}, inplace=True)\n"
     ]
    }
   ],
   "execution_count": 74
  },
  {
   "metadata": {
    "ExecuteTime": {
     "end_time": "2025-04-17T08:23:25.322491Z",
     "start_time": "2025-04-17T08:23:22.427592Z"
    }
   },
   "cell_type": "code",
   "source": [
    "\n",
    "# Create Shamsi_Date and convert to numeric\n",
    "df[\"Shamsi_Date_Num\"] = (df[\"Jalali_1\"].str[:4] + df[\"Jalali_1\"].str[5:7] + df[\"Jalali_1\"].str[8:10]).astype(int)\n"
   ],
   "id": "fc54c823495d0c4f",
   "outputs": [],
   "execution_count": 75
  },
  {
   "metadata": {},
   "cell_type": "code",
   "source": [
    "# Filter & Select\n",
    "# Assuming df is already a pandas DataFrame\n",
    "TrainRFM = df[df[\"module\"] == moduleSelected]\n",
    "\n",
    "TrainRFM = TrainRFM[TrainRFM[\"payment_status\"] == \"payed\"]\n",
    "TrainRFM = TrainRFM[TrainRFM[\"status\"] == \"finished\"]\n",
    "\n",
    "print(TrainRFM.columns)\n",
    "print(TrainRFM.shape)\n",
    "\n",
    "# select data for modeling\n",
    "TrainRFM = TrainRFM[['user_id', '_id', 'initial_total', 'module','Shamsi_Date_Num']]\n",
    "\n",
    "# print(TrainRFM.head(5))"
   ],
   "id": "fa653e668f4de066",
   "outputs": [],
   "execution_count": null
  },
  {
   "metadata": {
    "ExecuteTime": {
     "end_time": "2025-04-17T07:11:58.298530900Z",
     "start_time": "2025-04-09T10:53:42.089871Z"
    }
   },
   "cell_type": "code",
   "source": [
    "# make R, F, M, L\n",
    "\n",
    "# !pip install jdatetime\n",
    "import jdatetime\n",
    "import datetime\n",
    "from datetime import date\n",
    "# from datetime import datetime\n",
    "\n",
    "# Group by user_id and calculate min and max dates\n",
    "TrainRFM_RB = TrainRFM.groupby(\"user_id\", as_index=False).agg(\n",
    "    minDate=(\"Shamsi_Date_Num\", \"min\"),\n",
    "    maxDate=(\"Shamsi_Date_Num\", \"max\")\n",
    ")\n",
    "\n",
    "\n",
    "def jalali_to_miladi(jalali_date):\n",
    "    # Extract year, month, day from the integer Jalali date\n",
    "    year = jalali_date // 10000\n",
    "    month = (jalali_date % 10000) // 100\n",
    "    day = jalali_date % 100\n",
    "\n",
    "    # Convert to Gregorian using jdatetime\n",
    "    gregorian_date = jdatetime.date(year, month, day).togregorian()\n",
    "\n",
    "    # Return formatted Gregorian date\n",
    "    return gregorian_date\n",
    "\n",
    "\n",
    "TrainRFM_RB['minDate_Miladi'] = TrainRFM_RB['minDate'].apply(jalali_to_miladi)\n",
    "TrainRFM_RB['maxDate_Miladi'] = TrainRFM_RB['maxDate'].apply(jalali_to_miladi)\n",
    "\n",
    "# TrainRFM_RB['maxDate_Miladi'] = TrainRFM_RB['maxDate_Miladi'].apply(\n",
    "#     lambda x: datetime.strptime(x, '%Y-%m-%d').date()\n",
    "# )\n",
    "\n",
    "TrainRFM_RB = TrainRFM_RB[\n",
    "    (TrainRFM_RB['maxDate'] >= start_date_jalali) & (TrainRFM_RB['maxDate'] <= target_date_jalali)]\n",
    "\n",
    "TrainRFM_RB['R'] = TrainRFM_RB['maxDate_Miladi'].apply(lambda d: (target_date - d).days)\n",
    "\n",
    "\n",
    "\n",
    "\n",
    "\n"
   ],
   "id": "b623e7ebce0a865f",
   "outputs": [],
   "execution_count": 7
  },
  {
   "metadata": {
    "ExecuteTime": {
     "end_time": "2025-04-17T07:11:58.319166400Z",
     "start_time": "2025-04-09T10:53:48.023420Z"
    }
   },
   "cell_type": "code",
   "source": [
    "# calculate F\n",
    "TrainRFM_FB = TrainRFM.groupby('user_id').size().reset_index(name='F')\n",
    "\n",
    "TrainRFM_RFB = TrainRFM_RB.merge(TrainRFM_FB, how='left', on='user_id')\n"
   ],
   "id": "480f108c67785209",
   "outputs": [],
   "execution_count": 8
  },
  {
   "metadata": {
    "ExecuteTime": {
     "end_time": "2025-04-17T07:11:59.770999Z",
     "start_time": "2025-04-17T07:11:59.746418Z"
    }
   },
   "cell_type": "code",
   "source": [
    "# Calculate M\n",
    "\n",
    "TrainRFM_MB = TrainRFM.groupby('user_id').agg(M=('initial_total', 'sum')).reset_index()\n",
    "\n",
    "TrainRFMRFMB = TrainRFM_RFB.merge(TrainRFM_MB, on='user_id', how='left')\n",
    "\n",
    "TrainRFMRFMB['M'] = TrainRFMRFMB['M'].astype(float).astype(int)\n"
   ],
   "id": "5f618a997d2ee65e",
   "outputs": [
    {
     "ename": "NameError",
     "evalue": "name 'TrainRFM' is not defined",
     "output_type": "error",
     "traceback": [
      "\u001B[1;31m---------------------------------------------------------------------------\u001B[0m",
      "\u001B[1;31mNameError\u001B[0m                                 Traceback (most recent call last)",
      "Cell \u001B[1;32mIn[10], line 3\u001B[0m\n\u001B[0;32m      1\u001B[0m \u001B[38;5;66;03m# Calculate M\u001B[39;00m\n\u001B[1;32m----> 3\u001B[0m TrainRFM_MB \u001B[38;5;241m=\u001B[39m TrainRFM\u001B[38;5;241m.\u001B[39mgroupby(\u001B[38;5;124m'\u001B[39m\u001B[38;5;124muser_id\u001B[39m\u001B[38;5;124m'\u001B[39m)\u001B[38;5;241m.\u001B[39magg(M\u001B[38;5;241m=\u001B[39m(\u001B[38;5;124m'\u001B[39m\u001B[38;5;124minitial_total\u001B[39m\u001B[38;5;124m'\u001B[39m, \u001B[38;5;124m'\u001B[39m\u001B[38;5;124msum\u001B[39m\u001B[38;5;124m'\u001B[39m))\u001B[38;5;241m.\u001B[39mreset_index()\n\u001B[0;32m      5\u001B[0m TrainRFMRFMB \u001B[38;5;241m=\u001B[39m TrainRFM_RFB\u001B[38;5;241m.\u001B[39mmerge(TrainRFM_MB, on\u001B[38;5;241m=\u001B[39m\u001B[38;5;124m'\u001B[39m\u001B[38;5;124muser_id\u001B[39m\u001B[38;5;124m'\u001B[39m, how\u001B[38;5;241m=\u001B[39m\u001B[38;5;124m'\u001B[39m\u001B[38;5;124mleft\u001B[39m\u001B[38;5;124m'\u001B[39m)\n\u001B[0;32m      7\u001B[0m TrainRFMRFMB[\u001B[38;5;124m'\u001B[39m\u001B[38;5;124mM\u001B[39m\u001B[38;5;124m'\u001B[39m] \u001B[38;5;241m=\u001B[39m TrainRFMRFMB[\u001B[38;5;124m'\u001B[39m\u001B[38;5;124mM\u001B[39m\u001B[38;5;124m'\u001B[39m]\u001B[38;5;241m.\u001B[39mastype(\u001B[38;5;28mfloat\u001B[39m)\u001B[38;5;241m.\u001B[39mastype(\u001B[38;5;28mint\u001B[39m)\n",
      "\u001B[1;31mNameError\u001B[0m: name 'TrainRFM' is not defined"
     ]
    }
   ],
   "execution_count": 10
  },
  {
   "metadata": {
    "ExecuteTime": {
     "end_time": "2025-04-17T07:12:00.345428Z",
     "start_time": "2025-04-17T07:12:00.320393Z"
    }
   },
   "cell_type": "code",
   "source": [
    "#Calculate L\n",
    "\n",
    "TrainRFMRFMBL = TrainRFMRFMB\n",
    "\n",
    "TrainRFMRFMBL['L'] = TrainRFMRFMBL.apply(lambda row: (row['maxDate_Miladi'] - row['minDate_Miladi']).days, axis=1) + 1\n"
   ],
   "id": "db657ec753361adc",
   "outputs": [
    {
     "ename": "NameError",
     "evalue": "name 'TrainRFMRFMB' is not defined",
     "output_type": "error",
     "traceback": [
      "\u001B[1;31m---------------------------------------------------------------------------\u001B[0m",
      "\u001B[1;31mNameError\u001B[0m                                 Traceback (most recent call last)",
      "Cell \u001B[1;32mIn[11], line 3\u001B[0m\n\u001B[0;32m      1\u001B[0m \u001B[38;5;66;03m#Calculate L\u001B[39;00m\n\u001B[1;32m----> 3\u001B[0m TrainRFMRFMBL \u001B[38;5;241m=\u001B[39m TrainRFMRFMB\n\u001B[0;32m      5\u001B[0m TrainRFMRFMBL[\u001B[38;5;124m'\u001B[39m\u001B[38;5;124mL\u001B[39m\u001B[38;5;124m'\u001B[39m] \u001B[38;5;241m=\u001B[39m TrainRFMRFMBL\u001B[38;5;241m.\u001B[39mapply(\u001B[38;5;28;01mlambda\u001B[39;00m row: (row[\u001B[38;5;124m'\u001B[39m\u001B[38;5;124mmaxDate_Miladi\u001B[39m\u001B[38;5;124m'\u001B[39m] \u001B[38;5;241m-\u001B[39m row[\u001B[38;5;124m'\u001B[39m\u001B[38;5;124mminDate_Miladi\u001B[39m\u001B[38;5;124m'\u001B[39m])\u001B[38;5;241m.\u001B[39mdays, axis\u001B[38;5;241m=\u001B[39m\u001B[38;5;241m1\u001B[39m) \u001B[38;5;241m+\u001B[39m \u001B[38;5;241m1\u001B[39m\n",
      "\u001B[1;31mNameError\u001B[0m: name 'TrainRFMRFMB' is not defined"
     ]
    }
   ],
   "execution_count": 11
  },
  {
   "metadata": {
    "ExecuteTime": {
     "end_time": "2025-04-07T10:20:54.533434Z",
     "start_time": "2025-04-07T10:20:54.514629Z"
    }
   },
   "cell_type": "code",
   "source": [
    "# Score R, F, M\n",
    "\n",
    "# R\n",
    "TrainRFMRFMBL['R_Norm'] = (TrainRFMRFMBL['R'] - TrainRFMRFMBL['R'].min()) / (TrainRFMRFMBL['R'].max() - TrainRFMRFMBL['R'].min())\n",
    "\n",
    "TrainRFMRFMBL['RNormScore'] = quantile_score(TrainRFMRFMBL['R_Norm'], 5)\n",
    "\n",
    "TrainRFMRFMBL['RNormScore'] = 6 - TrainRFMRFMBL['RNormScore']\n",
    "\n",
    "\n",
    "\n"
   ],
   "id": "d0e29dbf72f9e4cf",
   "outputs": [],
   "execution_count": 15
  },
  {
   "metadata": {
    "ExecuteTime": {
     "end_time": "2025-04-07T10:21:05.158741Z",
     "start_time": "2025-04-07T10:21:05.137027Z"
    }
   },
   "cell_type": "code",
   "source": "",
   "id": "b7d777aae8900284",
   "outputs": [
    {
     "data": {
      "text/plain": [
       "                    user_id   minDate   maxDate minDate_Miladi maxDate_Miladi  \\\n",
       "0  60affeafd7651d2f521e1512  14030909  14030909     2024-11-29     2024-11-29   \n",
       "1  60affeb1d7651d2f521e158e  14030220  14030906     2024-05-09     2024-11-26   \n",
       "2  60affeb1d7651d2f521e1591  14030924  14030924     2024-12-14     2024-12-14   \n",
       "3  60affeb3d7651d2f521e16b9  14020113  14031120     2023-04-02     2025-02-08   \n",
       "4  60affeb3d7651d2f521e16d9  14010117  14030711     2022-04-06     2024-10-02   \n",
       "\n",
       "     R   F           M    L    R_Norm  RNormScore  \n",
       "0   81   1   225894480    1  0.450000         3.0  \n",
       "1   84   4   436762280  202  0.466667         2.0  \n",
       "2   66   1    12912400    1  0.366667         3.0  \n",
       "3   10  24   152404431  679  0.055556         5.0  \n",
       "4  139  20  1974570152  911  0.772222         6.0  "
      ],
      "text/html": [
       "<div>\n",
       "<style scoped>\n",
       "    .dataframe tbody tr th:only-of-type {\n",
       "        vertical-align: middle;\n",
       "    }\n",
       "\n",
       "    .dataframe tbody tr th {\n",
       "        vertical-align: top;\n",
       "    }\n",
       "\n",
       "    .dataframe thead th {\n",
       "        text-align: right;\n",
       "    }\n",
       "</style>\n",
       "<table border=\"1\" class=\"dataframe\">\n",
       "  <thead>\n",
       "    <tr style=\"text-align: right;\">\n",
       "      <th></th>\n",
       "      <th>user_id</th>\n",
       "      <th>minDate</th>\n",
       "      <th>maxDate</th>\n",
       "      <th>minDate_Miladi</th>\n",
       "      <th>maxDate_Miladi</th>\n",
       "      <th>R</th>\n",
       "      <th>F</th>\n",
       "      <th>M</th>\n",
       "      <th>L</th>\n",
       "      <th>R_Norm</th>\n",
       "      <th>RNormScore</th>\n",
       "    </tr>\n",
       "  </thead>\n",
       "  <tbody>\n",
       "    <tr>\n",
       "      <th>0</th>\n",
       "      <td>60affeafd7651d2f521e1512</td>\n",
       "      <td>14030909</td>\n",
       "      <td>14030909</td>\n",
       "      <td>2024-11-29</td>\n",
       "      <td>2024-11-29</td>\n",
       "      <td>81</td>\n",
       "      <td>1</td>\n",
       "      <td>225894480</td>\n",
       "      <td>1</td>\n",
       "      <td>0.450000</td>\n",
       "      <td>3.0</td>\n",
       "    </tr>\n",
       "    <tr>\n",
       "      <th>1</th>\n",
       "      <td>60affeb1d7651d2f521e158e</td>\n",
       "      <td>14030220</td>\n",
       "      <td>14030906</td>\n",
       "      <td>2024-05-09</td>\n",
       "      <td>2024-11-26</td>\n",
       "      <td>84</td>\n",
       "      <td>4</td>\n",
       "      <td>436762280</td>\n",
       "      <td>202</td>\n",
       "      <td>0.466667</td>\n",
       "      <td>2.0</td>\n",
       "    </tr>\n",
       "    <tr>\n",
       "      <th>2</th>\n",
       "      <td>60affeb1d7651d2f521e1591</td>\n",
       "      <td>14030924</td>\n",
       "      <td>14030924</td>\n",
       "      <td>2024-12-14</td>\n",
       "      <td>2024-12-14</td>\n",
       "      <td>66</td>\n",
       "      <td>1</td>\n",
       "      <td>12912400</td>\n",
       "      <td>1</td>\n",
       "      <td>0.366667</td>\n",
       "      <td>3.0</td>\n",
       "    </tr>\n",
       "    <tr>\n",
       "      <th>3</th>\n",
       "      <td>60affeb3d7651d2f521e16b9</td>\n",
       "      <td>14020113</td>\n",
       "      <td>14031120</td>\n",
       "      <td>2023-04-02</td>\n",
       "      <td>2025-02-08</td>\n",
       "      <td>10</td>\n",
       "      <td>24</td>\n",
       "      <td>152404431</td>\n",
       "      <td>679</td>\n",
       "      <td>0.055556</td>\n",
       "      <td>5.0</td>\n",
       "    </tr>\n",
       "    <tr>\n",
       "      <th>4</th>\n",
       "      <td>60affeb3d7651d2f521e16d9</td>\n",
       "      <td>14010117</td>\n",
       "      <td>14030711</td>\n",
       "      <td>2022-04-06</td>\n",
       "      <td>2024-10-02</td>\n",
       "      <td>139</td>\n",
       "      <td>20</td>\n",
       "      <td>1974570152</td>\n",
       "      <td>911</td>\n",
       "      <td>0.772222</td>\n",
       "      <td>6.0</td>\n",
       "    </tr>\n",
       "  </tbody>\n",
       "</table>\n",
       "</div>"
      ]
     },
     "execution_count": 16,
     "metadata": {},
     "output_type": "execute_result"
    }
   ],
   "execution_count": 16
  },
  {
   "metadata": {
    "ExecuteTime": {
     "end_time": "2025-04-07T10:36:36.230572Z",
     "start_time": "2025-04-07T10:36:36.221369Z"
    }
   },
   "cell_type": "code",
   "source": "print(TrainRFMRFMBL['M'].value_counts().sort_values(ascending=False))",
   "id": "ad9bbdcda68bd4c1",
   "outputs": [
    {
     "name": "stdout",
     "output_type": "stream",
     "text": [
      "M\n",
      "-2147483648    605\n",
      " 7962870        58\n",
      " 17241000       55\n",
      " 12873000       49\n",
      " 14763000       47\n",
      "              ... \n",
      " 279599968       1\n",
      " 10843000        1\n",
      " 71718000        1\n",
      " 40527000        1\n",
      " 38210122        1\n",
      "Name: count, Length: 28663, dtype: int64\n"
     ]
    }
   ],
   "execution_count": 25
  },
  {
   "metadata": {
    "ExecuteTime": {
     "end_time": "2025-04-16T12:08:24.403301Z",
     "start_time": "2025-04-16T12:08:23.810781Z"
    }
   },
   "cell_type": "code",
   "source": [
    "all_words = sorted(set(preprocessed))\n",
    "vocab = {token: i for i, token in enumerate(all_words)}\n"
   ],
   "id": "42874c4c41e4d032",
   "outputs": [
    {
     "ename": "NameError",
     "evalue": "name 'preprocessed' is not defined",
     "output_type": "error",
     "traceback": [
      "\u001B[1;31m---------------------------------------------------------------------------\u001B[0m",
      "\u001B[1;31mNameError\u001B[0m                                 Traceback (most recent call last)",
      "Cell \u001B[1;32mIn[1], line 1\u001B[0m\n\u001B[1;32m----> 1\u001B[0m all_words \u001B[38;5;241m=\u001B[39m \u001B[38;5;28msorted\u001B[39m(\u001B[38;5;28mset\u001B[39m(preprocessed))\n\u001B[0;32m      2\u001B[0m vocab \u001B[38;5;241m=\u001B[39m {token: i \u001B[38;5;28;01mfor\u001B[39;00m i, token \u001B[38;5;129;01min\u001B[39;00m \u001B[38;5;28menumerate\u001B[39m(all_words)}\n",
      "\u001B[1;31mNameError\u001B[0m: name 'preprocessed' is not defined"
     ]
    }
   ],
   "execution_count": 1
  },
  {
   "metadata": {
    "ExecuteTime": {
     "end_time": "2025-04-16T12:08:52.190576Z",
     "start_time": "2025-04-16T12:08:52.167318Z"
    }
   },
   "cell_type": "code",
   "source": "inv_vocab = {i: token for token, i in vocab.items()}\n",
   "id": "9364fc1fd71b7f2a",
   "outputs": [
    {
     "ename": "NameError",
     "evalue": "name 'vocab' is not defined",
     "output_type": "error",
     "traceback": [
      "\u001B[1;31m---------------------------------------------------------------------------\u001B[0m",
      "\u001B[1;31mNameError\u001B[0m                                 Traceback (most recent call last)",
      "Cell \u001B[1;32mIn[2], line 1\u001B[0m\n\u001B[1;32m----> 1\u001B[0m inv_vocab \u001B[38;5;241m=\u001B[39m {i: token \u001B[38;5;28;01mfor\u001B[39;00m token, i \u001B[38;5;129;01min\u001B[39;00m vocab\u001B[38;5;241m.\u001B[39mitems()}\n",
      "\u001B[1;31mNameError\u001B[0m: name 'vocab' is not defined"
     ]
    }
   ],
   "execution_count": 2
  },
  {
   "metadata": {
    "ExecuteTime": {
     "end_time": "2025-04-16T12:08:53.508826Z",
     "start_time": "2025-04-16T12:08:53.494905Z"
    }
   },
   "cell_type": "code",
   "source": [
    "class SimpleTokenizerV1:\n",
    "    def __init__(self, vocab):\n",
    "        self.vocab = vocab\n",
    "        self.inv_vocab = {i: token for token, i in vocab.items()}\n",
    "\n",
    "    def tokenize(self, text):\n",
    "        import re\n",
    "        tokens = re.split(r'([,.:;?_!\"()\\']|--|\\s)', text)\n",
    "        tokens = [item.strip() for item in tokens if item.strip()]\n",
    "        return tokens\n",
    "\n",
    "    def encode(self, text):\n",
    "        tokens = self.tokenize(text)\n",
    "        return [self.vocab[token] for token in tokens]\n",
    "\n",
    "    def decode(self, token_ids):\n",
    "        return ' '.join(self.inv_vocab[i] for i in token_ids)\n"
   ],
   "id": "41674fc09fac6d85",
   "outputs": [],
   "execution_count": 3
  },
  {
   "metadata": {
    "ExecuteTime": {
     "end_time": "2025-04-16T12:08:55.220806Z",
     "start_time": "2025-04-16T12:08:55.196785Z"
    }
   },
   "cell_type": "code",
   "source": [
    "tokenizer = SimpleTokenizerV1(vocab)\n",
    "\n",
    "text = \"\"\"\"It's the last he painted, you know,\" Mrs. Gisburn said with pardonable pride.\"\"\"\n",
    "ids = tokenizer.encode(text)\n",
    "print(\"Token IDs:\", ids)\n",
    "\n",
    "decoded_text = tokenizer.decode(ids)\n",
    "print(\"Decoded Text:\", decoded_text)\n"
   ],
   "id": "2c7b0096b0b82a08",
   "outputs": [
    {
     "ename": "NameError",
     "evalue": "name 'vocab' is not defined",
     "output_type": "error",
     "traceback": [
      "\u001B[1;31m---------------------------------------------------------------------------\u001B[0m",
      "\u001B[1;31mNameError\u001B[0m                                 Traceback (most recent call last)",
      "Cell \u001B[1;32mIn[4], line 1\u001B[0m\n\u001B[1;32m----> 1\u001B[0m tokenizer \u001B[38;5;241m=\u001B[39m SimpleTokenizerV1(vocab)\n\u001B[0;32m      3\u001B[0m text \u001B[38;5;241m=\u001B[39m \u001B[38;5;124m\"\"\"\u001B[39m\u001B[38;5;124m\"\u001B[39m\u001B[38;5;124mIt\u001B[39m\u001B[38;5;124m'\u001B[39m\u001B[38;5;124ms the last he painted, you know,\u001B[39m\u001B[38;5;124m\"\u001B[39m\u001B[38;5;124m Mrs. Gisburn said with pardonable pride.\u001B[39m\u001B[38;5;124m\"\"\"\u001B[39m\n\u001B[0;32m      4\u001B[0m ids \u001B[38;5;241m=\u001B[39m tokenizer\u001B[38;5;241m.\u001B[39mencode(text)\n",
      "\u001B[1;31mNameError\u001B[0m: name 'vocab' is not defined"
     ]
    }
   ],
   "execution_count": 4
  },
  {
   "metadata": {},
   "cell_type": "code",
   "outputs": [],
   "execution_count": null,
   "source": "",
   "id": "e2ad9f93331dd3ea"
  },
  {
   "metadata": {},
   "cell_type": "code",
   "outputs": [],
   "execution_count": null,
   "source": "",
   "id": "6d89a91381775169"
  },
  {
   "metadata": {},
   "cell_type": "code",
   "outputs": [],
   "execution_count": null,
   "source": "",
   "id": "8bd166520fde552e"
  }
 ],
 "metadata": {
  "kernelspec": {
   "display_name": "Python 3",
   "language": "python",
   "name": "python3"
  },
  "language_info": {
   "codemirror_mode": {
    "name": "ipython",
    "version": 2
   },
   "file_extension": ".py",
   "mimetype": "text/x-python",
   "name": "python",
   "nbconvert_exporter": "python",
   "pygments_lexer": "ipython2",
   "version": "2.7.6"
  }
 },
 "nbformat": 4,
 "nbformat_minor": 5
}
