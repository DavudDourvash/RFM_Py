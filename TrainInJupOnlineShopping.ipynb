{
 "cells": [
  {
   "cell_type": "code",
   "id": "initial_id",
   "metadata": {
    "collapsed": true,
    "ExecuteTime": {
     "end_time": "2025-04-06T11:19:42.597856Z",
     "start_time": "2025-04-06T11:19:42.589428Z"
    }
   },
   "source": [
    "# import pkgs\n",
    "import pandas as pd\n",
    "import glob\n",
    "import locale\n",
    "import numpy as np\n",
    "from datetime import date\n",
    "\n",
    "locale.setlocale(locale.LC_ALL, 'fa_IR.UTF-8')\n"
   ],
   "outputs": [
    {
     "data": {
      "text/plain": [
       "'fa_IR.UTF-8'"
      ]
     },
     "execution_count": 59,
     "metadata": {},
     "output_type": "execute_result"
    }
   ],
   "execution_count": 59
  },
  {
   "metadata": {
    "ExecuteTime": {
     "end_time": "2025-04-06T11:19:42.858105Z",
     "start_time": "2025-04-06T11:19:42.840606Z"
    }
   },
   "cell_type": "code",
   "source": [
    "# Functions\n",
    "\n",
    "def quantile_score(vec, score):\n",
    "    scorevec = np.zeros(len(vec))\n",
    "    qu = np.quantile(vec, np.linspace(0, 1, score + 1))\n",
    "    scorevec[(vec <= qu[1]) & (vec >= qu[0])] = 1\n",
    "    for i in range(1, score - 1):\n",
    "        scorevec[(vec <= qu[i + 1]) & (vec > qu[i])] = i + 1\n",
    "    scorevec[vec > qu[score]] = score\n",
    "    return scorevec\n",
    "\n",
    "def generate_dates(years, months, days30, days31):\n",
    "    dates = []\n",
    "    for month in months:\n",
    "        if month in Months:\n",
    "            dates.append(f\"{years}{month}{days31}\")\n",
    "        else:\n",
    "            dates.append(f\"{years}{month}{days30}\")\n",
    "    return dates\n"
   ],
   "id": "34ae08d3e8821963",
   "outputs": [],
   "execution_count": 60
  },
  {
   "metadata": {
    "ExecuteTime": {
     "end_time": "2025-04-06T11:19:43.126721Z",
     "start_time": "2025-04-06T11:19:43.120586Z"
    }
   },
   "cell_type": "code",
   "source": [
    "# Parameters\n",
    "\n",
    "start_date_jalali = 14030601\n",
    "target_date_jalali = 14031130\n",
    "start_date = date(2024, 8, 22)  # Start train\n",
    "target_date = date(2025, 2, 18)  # End train\n",
    "moduleSelected = \"Onlineshopping\"\n",
    "\n",
    "# Years = [\"1403\"]\n",
    "# Months = [\"{:02d}\".format(i) for i in range(1, 13)]  # Generates \"01\" to \"12\"\n",
    "# Days30 = [\"{:02d}\".format(i) for i in range(1, 31)]  # Generates \"01\" to \"30\"\n",
    "# Days31 = [\"{:02d}\".format(i) for i in range(1, 32)]  # Generates \"01\" to \"31\"\n",
    "#\n",
    "# print(\"Years:\", Years)\n",
    "# print(\"Months:\", Months)\n",
    "# print(\"Days30:\", Days30)\n",
    "# print(\"Days31:\", Days31)\n",
    "#\n",
    "# main_dates = generate_dates(Years, Months, Days30, Days31)\n",
    "# # Remove specific dates\n",
    "# excluded_dates = {14021031, 14021131, 14021231, 14030731, 14030831, 14030931, 14031031, 14031131, 14031231}\n",
    "# main_dates = [date for date in main_dates if date not in excluded_dates]"
   ],
   "id": "d0d05f6cc4e34a8b",
   "outputs": [],
   "execution_count": 61
  },
  {
   "metadata": {
    "ExecuteTime": {
     "end_time": "2025-04-06T11:19:48.041955Z",
     "start_time": "2025-04-06T11:19:43.511890Z"
    }
   },
   "cell_type": "code",
   "source": [
    "# Read Data\n",
    "# Folder containing Parquet files\n",
    "folder_path = \"Data/data/*.parquet\"\n",
    "\n",
    "# List all parquet files\n",
    "parquet_files = glob.glob(folder_path)\n",
    "\n",
    "# Read and concatenate all files\n",
    "df = pd.concat([pd.read_parquet(f) for f in parquet_files], ignore_index=True)\n",
    "\n",
    "DimDate = pd.read_csv(\"Data/data/DimDate.csv\")\n"
   ],
   "id": "ab25330ff063956a",
   "outputs": [],
   "execution_count": 62
  },
  {
   "metadata": {
    "ExecuteTime": {
     "end_time": "2025-04-06T11:19:58.473342Z",
     "start_time": "2025-04-06T11:19:48.041955Z"
    }
   },
   "cell_type": "code",
   "source": [
    "\n",
    "# Preperation\n",
    "# Convert date column to string\n",
    "\n",
    "import pandas as pd\n",
    "df[\"date_CHR\"] = df[\"date\"].astype(str)\n",
    "\n",
    "# Create Miladi_Num by extracting and concatenating substrings\n",
    "df[\"Miladi_Num\"] = df[\"date_CHR\"].str[:4] + df[\"date_CHR\"].str[5:7] + df[\"date_CHR\"].str[8:10]\n",
    "\n",
    "# Convert Miladi column to string\n",
    "DimDate[\"Miladi_CHR\"] = DimDate[\"Miladi\"].astype(str)\n",
    "\n",
    "# Create Miladi_Num in DimDate\n",
    "DimDate[\"Miladi_Num\"] = DimDate[\"Miladi_CHR\"].str[:4] + DimDate[\"Miladi_CHR\"].str[5:7] + DimDate[\"Miladi_CHR\"].str[8:10]\n",
    "\n",
    "# Select specific columns\n",
    "DimDateS = DimDate[[\"Jalali_1\", \"Miladi_Num\"]]\n",
    "\n",
    "# Left join on Miladi_Num\n",
    "df = df.merge(DimDateS, on=\"Miladi_Num\", how=\"left\")\n",
    "\n",
    "# Create Shamsi_Date and convert to numeric\n",
    "df[\"Shamsi_Date_Num\"] = (df[\"Jalali_1\"].str[:4] + df[\"Jalali_1\"].str[5:7] + df[\"Jalali_1\"].str[8:10]).astype(int)\n"
   ],
   "id": "fc54c823495d0c4f",
   "outputs": [],
   "execution_count": 63
  },
  {
   "metadata": {
    "ExecuteTime": {
     "end_time": "2025-04-06T11:19:59.296980Z",
     "start_time": "2025-04-06T11:19:58.500700Z"
    }
   },
   "cell_type": "code",
   "source": [
    "# Filter & Select\n",
    "# Assuming df is already a pandas DataFrame\n",
    "TrainRFM = df[df[\"module\"] == moduleSelected]\n",
    "\n",
    "TrainRFM = TrainRFM[TrainRFM[\"payment_status\"] == \"payed\"]\n",
    "TrainRFM = TrainRFM[TrainRFM[\"status\"] == \"finished\"]\n",
    "\n",
    "print(TrainRFM.columns)\n",
    "print(TrainRFM.shape)\n",
    "\n",
    "# select data for modeling\n",
    "TrainRFM = TrainRFM[['user_id', '_id', 'initial_total', 'module','Shamsi_Date_Num']]\n",
    "\n",
    "print(TrainRFM.head(5))"
   ],
   "id": "fa653e668f4de066",
   "outputs": [
    {
     "name": "stdout",
     "output_type": "stream",
     "text": [
      "Index(['_id', 'user_id', 'date', 'client_type', 'status', 'payment_status',\n",
      "       'type', 'module', 'product_name', 'initial_total', 'product_price',\n",
      "       'converted_value', 'qty', 'module_unit_price', 'Amount_in_dollars',\n",
      "       'first_purchased', 'date_CHR', 'Miladi_Num', 'Jalali_1',\n",
      "       'Shamsi_Date_Num'],\n",
      "      dtype='object')\n",
      "(503726, 20)\n",
      "                         user_id                       _id  initial_total  \\\n",
      "274229  60b0025888157467350fc9fe  62378f72b002627c54389cbc      2200000.0   \n",
      "274237  60e34a06b31930354d285c3b  623790a314bf061ad531ff18     37537500.0   \n",
      "274264  60b0012cd7651d2f521ea565  6237960fd55f160171061f0d     11550000.0   \n",
      "274507  60b00cfe6248355acf0f4cfa  62381428a4a78610e2786852     14148750.0   \n",
      "274508  60b008608815746735105ecf  6238145b0b4f097aab447dfa      8247250.0   \n",
      "\n",
      "                module  Shamsi_Date_Num  \n",
      "274229  Onlineshopping         14010101  \n",
      "274237  Onlineshopping         14010101  \n",
      "274264  Onlineshopping         14010101  \n",
      "274507  Onlineshopping         14010101  \n",
      "274508  Onlineshopping         14010101  \n"
     ]
    }
   ],
   "execution_count": 64
  },
  {
   "metadata": {
    "ExecuteTime": {
     "end_time": "2025-04-06T11:19:59.548238Z",
     "start_time": "2025-04-06T11:19:59.321494Z"
    }
   },
   "cell_type": "code",
   "source": [
    "# make R, F, M\n",
    "# Group by user_id and calculate min and max dates\n",
    "TrainRFM_RB = TrainRFM.groupby(\"user_id\", as_index=False).agg(\n",
    "    minDate=(\"Shamsi_Date_Num\", \"min\"),\n",
    "    maxDate=(\"Shamsi_Date_Num\", \"max\")\n",
    ")\n",
    "\n",
    "# TrainRFM_RB.head(5)"
   ],
   "id": "b623e7ebce0a865f",
   "outputs": [],
   "execution_count": 65
  },
  {
   "metadata": {
    "ExecuteTime": {
     "end_time": "2025-04-06T11:19:59.576400Z",
     "start_time": "2025-04-06T11:19:59.570443Z"
    }
   },
   "cell_type": "code",
   "source": "# TrainRFM_RB.dtypes",
   "id": "1056954e89ae177a",
   "outputs": [],
   "execution_count": 66
  },
  {
   "metadata": {
    "ExecuteTime": {
     "end_time": "2025-04-06T11:20:02.182388Z",
     "start_time": "2025-04-06T11:19:59.601762Z"
    }
   },
   "cell_type": "code",
   "source": [
    "# !pip install jdatetime\n",
    "import jdatetime\n",
    "import datetime\n",
    "from datetime import date\n",
    "# from datetime import datetime\n",
    "\n",
    "\n",
    "def jalali_to_miladi(jalali_date):\n",
    "    # Extract year, month, day from the integer Jalali date\n",
    "    year = jalali_date // 10000\n",
    "    month = (jalali_date % 10000) // 100\n",
    "    day = jalali_date % 100\n",
    "\n",
    "    # Convert to Gregorian using jdatetime\n",
    "    gregorian_date = jdatetime.date(year, month, day).togregorian()\n",
    "\n",
    "    # Return formatted Gregorian date\n",
    "    return gregorian_date\n",
    "\n",
    "\n",
    "TrainRFM_RB['minDate_Miladi'] = TrainRFM_RB['minDate'].apply(jalali_to_miladi)\n",
    "TrainRFM_RB['maxDate_Miladi'] = TrainRFM_RB['maxDate'].apply(jalali_to_miladi)\n",
    "\n",
    "\n",
    "# TrainRFM_RB['maxDate_Miladi'] = TrainRFM_RB['maxDate_Miladi'].apply(\n",
    "#     lambda x: datetime.strptime(x, '%Y-%m-%d').date()\n",
    "# )\n",
    "\n",
    "TrainRFM_RB = TrainRFM_RB[(TrainRFM_RB['maxDate'] >= start_date_jalali) & (TrainRFM_RB['maxDate'] <= target_date_jalali)]\n",
    "\n",
    "TrainRFM_RB['R'] = TrainRFM_RB['maxDate_Miladi'].apply(lambda d: (target_date - d).days)\n",
    "\n",
    "\n",
    "print(TrainRFM_RB.head(5))\n"
   ],
   "id": "30a2b1bfda714760",
   "outputs": [
    {
     "name": "stdout",
     "output_type": "stream",
     "text": [
      "                     user_id   minDate   maxDate minDate_Miladi  \\\n",
      "0   60affeafd7651d2f521e1512  14030909  14030909     2024-11-29   \n",
      "5   60affeb1d7651d2f521e158e  14030220  14030906     2024-05-09   \n",
      "6   60affeb1d7651d2f521e1591  14030924  14030924     2024-12-14   \n",
      "11  60affeb3d7651d2f521e16b9  14020113  14031120     2023-04-02   \n",
      "12  60affeb3d7651d2f521e16d9  14010117  14030711     2022-04-06   \n",
      "\n",
      "   maxDate_Miladi    R  \n",
      "0      2024-11-29   81  \n",
      "5      2024-11-26   84  \n",
      "6      2024-12-14   66  \n",
      "11     2025-02-08   10  \n",
      "12     2024-10-02  139  \n"
     ]
    }
   ],
   "execution_count": 67
  },
  {
   "metadata": {
    "ExecuteTime": {
     "end_time": "2025-04-06T11:20:02.563568Z",
     "start_time": "2025-04-06T11:20:02.270576Z"
    }
   },
   "cell_type": "code",
   "source": [
    "TrainRFM_FB = TrainRFM.groupby('user_id').size().reset_index(name='F')\n",
    "\n",
    "TrainRFM_RFB = TrainRFM_RB.merge(TrainRFM_FB, how='left', on='user_id')"
   ],
   "id": "e6c79a0e01db98b9",
   "outputs": [],
   "execution_count": 68
  },
  {
   "metadata": {
    "ExecuteTime": {
     "end_time": "2025-04-06T11:20:02.885204Z",
     "start_time": "2025-04-06T11:20:02.595319Z"
    }
   },
   "cell_type": "code",
   "source": [
    "\n",
    "TrainRFM_MB = TrainRFM.groupby('user_id').agg(M=('initial_total', 'sum')).reset_index()\n",
    "\n",
    "TrainRFMRFMB = TrainRFM_RFB.merge(TrainRFM_MB, on='user_id', how='left')\n",
    "\n",
    "TrainRFMRFMB['M'] = TrainRFMRFMB['M'].astype(float).astype(int)\n"
   ],
   "id": "43c68f6ce0ac540f",
   "outputs": [],
   "execution_count": 69
  },
  {
   "metadata": {
    "ExecuteTime": {
     "end_time": "2025-04-06T11:26:31.785384Z",
     "start_time": "2025-04-06T11:26:31.523883Z"
    }
   },
   "cell_type": "code",
   "source": [
    "TrainRFMRFMBL = TrainRFMRFMB\n",
    "\n",
    "TrainRFMRFMBL['L'] = TrainRFMRFMBL.apply(lambda row: (row['maxDate_Miladi'] - row['minDate_Miladi']).days, axis=1) + 1\n"
   ],
   "id": "ac542a9e75a04a6c",
   "outputs": [],
   "execution_count": 73
  },
  {
   "metadata": {
    "ExecuteTime": {
     "end_time": "2025-04-06T11:30:00.709494Z",
     "start_time": "2025-04-06T11:30:00.690403Z"
    }
   },
   "cell_type": "code",
   "source": [
    "TrainRFMRFMLB['R_Norm'] = (TrainRFMRFMLB['R'] - TrainRFMRFMLB['R'].min()) / (TrainRFMRFMLB['R'].max() - TrainRFMRFMLB['R'].min())\n",
    "\n",
    "\n",
    "TrainRFMRFMLB['RNormScore'] = quantile_score(TrainRFMRFMLB['R_Norm'], 5)\n",
    "\n",
    "TrainRFMRFMLB['RNormScore'] = 6 - TrainRFMRFMLB['RNormScore']"
   ],
   "id": "d0e29dbf72f9e4cf",
   "outputs": [],
   "execution_count": 75
  },
  {
   "metadata": {},
   "cell_type": "code",
   "outputs": [],
   "execution_count": null,
   "source": "",
   "id": "b7d777aae8900284"
  }
 ],
 "metadata": {
  "kernelspec": {
   "display_name": "Python 3",
   "language": "python",
   "name": "python3"
  },
  "language_info": {
   "codemirror_mode": {
    "name": "ipython",
    "version": 2
   },
   "file_extension": ".py",
   "mimetype": "text/x-python",
   "name": "python",
   "nbconvert_exporter": "python",
   "pygments_lexer": "ipython2",
   "version": "2.7.6"
  }
 },
 "nbformat": 4,
 "nbformat_minor": 5
}
