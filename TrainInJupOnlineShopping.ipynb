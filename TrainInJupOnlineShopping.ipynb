{
 "cells": [
  {
   "cell_type": "code",
   "id": "initial_id",
   "metadata": {
    "collapsed": true,
    "ExecuteTime": {
     "end_time": "2025-04-07T10:11:47.127386Z",
     "start_time": "2025-04-07T10:11:47.114722Z"
    }
   },
   "source": [
    "# import pkgs\n",
    "import pandas as pd\n",
    "import glob\n",
    "import locale\n",
    "import numpy as np\n",
    "from datetime import date\n",
    "\n",
    "locale.setlocale(locale.LC_ALL, 'fa_IR.UTF-8')\n"
   ],
   "outputs": [
    {
     "data": {
      "text/plain": [
       "'fa_IR.UTF-8'"
      ]
     },
     "execution_count": 6,
     "metadata": {},
     "output_type": "execute_result"
    }
   ],
   "execution_count": 6
  },
  {
   "metadata": {
    "ExecuteTime": {
     "end_time": "2025-04-07T10:11:47.161886Z",
     "start_time": "2025-04-07T10:11:47.152904Z"
    }
   },
   "cell_type": "code",
   "source": [
    "# Functions\n",
    "\n",
    "def quantile_score(vec, score):\n",
    "    scorevec = np.zeros(len(vec))\n",
    "    qu = np.quantile(vec, np.linspace(0, 1, score + 1))\n",
    "    scorevec[(vec <= qu[1]) & (vec >= qu[0])] = 1\n",
    "    for i in range(1, score - 1):\n",
    "        scorevec[(vec <= qu[i + 1]) & (vec > qu[i])] = i + 1\n",
    "    scorevec[vec > qu[score]] = score\n",
    "    return scorevec\n",
    "\n",
    "def generate_dates(years, months, days30, days31):\n",
    "    dates = []\n",
    "    for month in months:\n",
    "        if month in Months:\n",
    "            dates.append(f\"{years}{month}{days31}\")\n",
    "        else:\n",
    "            dates.append(f\"{years}{month}{days30}\")\n",
    "    return dates\n"
   ],
   "id": "34ae08d3e8821963",
   "outputs": [],
   "execution_count": 7
  },
  {
   "metadata": {
    "ExecuteTime": {
     "end_time": "2025-04-07T10:11:47.190996Z",
     "start_time": "2025-04-07T10:11:47.182908Z"
    }
   },
   "cell_type": "code",
   "source": [
    "# Parameters\n",
    "\n",
    "start_date_jalali = 14030601\n",
    "target_date_jalali = 14031130\n",
    "start_date = date(2024, 8, 22)  # Start train\n",
    "target_date = date(2025, 2, 18)  # End train\n",
    "moduleSelected = \"Onlineshopping\"\n",
    "\n",
    "# Years = [\"1403\"]\n",
    "# Months = [\"{:02d}\".format(i) for i in range(1, 13)]  # Generates \"01\" to \"12\"\n",
    "# Days30 = [\"{:02d}\".format(i) for i in range(1, 31)]  # Generates \"01\" to \"30\"\n",
    "# Days31 = [\"{:02d}\".format(i) for i in range(1, 32)]  # Generates \"01\" to \"31\"\n",
    "#\n",
    "# print(\"Years:\", Years)\n",
    "# print(\"Months:\", Months)\n",
    "# print(\"Days30:\", Days30)\n",
    "# print(\"Days31:\", Days31)\n",
    "#\n",
    "# main_dates = generate_dates(Years, Months, Days30, Days31)\n",
    "# # Remove specific dates\n",
    "# excluded_dates = {14021031, 14021131, 14021231, 14030731, 14030831, 14030931, 14031031, 14031131, 14031231}\n",
    "# main_dates = [date for date in main_dates if date not in excluded_dates]"
   ],
   "id": "d0d05f6cc4e34a8b",
   "outputs": [],
   "execution_count": 8
  },
  {
   "metadata": {
    "ExecuteTime": {
     "end_time": "2025-04-07T10:11:52.220419Z",
     "start_time": "2025-04-07T10:11:47.209005Z"
    }
   },
   "cell_type": "code",
   "source": [
    "# Read Data\n",
    "# Folder containing Parquet files\n",
    "folder_path = \"Data/data/*.parquet\"\n",
    "\n",
    "# List all parquet files\n",
    "parquet_files = glob.glob(folder_path)\n",
    "\n",
    "# Read and concatenate all files\n",
    "df = pd.concat([pd.read_parquet(f) for f in parquet_files], ignore_index=True)\n",
    "\n",
    "DimDate = pd.read_csv(\"Data/data/DimDate.csv\")\n"
   ],
   "id": "ab25330ff063956a",
   "outputs": [],
   "execution_count": 9
  },
  {
   "metadata": {
    "ExecuteTime": {
     "end_time": "2025-04-07T10:12:03.065032Z",
     "start_time": "2025-04-07T10:11:52.239302Z"
    }
   },
   "cell_type": "code",
   "source": [
    "# Preperation\n",
    "# Convert date column to string\n",
    "\n",
    "import pandas as pd\n",
    "df[\"date_CHR\"] = df[\"date\"].astype(str)\n",
    "\n",
    "# Create Miladi_Num by extracting and concatenating substrings\n",
    "df[\"Miladi_Num\"] = df[\"date_CHR\"].str[:4] + df[\"date_CHR\"].str[5:7] + df[\"date_CHR\"].str[8:10]\n",
    "\n",
    "# Convert Miladi column to string\n",
    "DimDate[\"Miladi_CHR\"] = DimDate[\"Miladi\"].astype(str)\n",
    "\n",
    "# Create Miladi_Num in DimDate\n",
    "DimDate[\"Miladi_Num\"] = DimDate[\"Miladi_CHR\"].str[:4] + DimDate[\"Miladi_CHR\"].str[5:7] + DimDate[\"Miladi_CHR\"].str[8:10]\n",
    "\n",
    "# Select specific columns\n",
    "DimDateS = DimDate[[\"Jalali_1\", \"Miladi_Num\"]]\n",
    "\n",
    "# Left join on Miladi_Num\n",
    "df = df.merge(DimDateS, on=\"Miladi_Num\", how=\"left\")\n",
    "\n",
    "# Create Shamsi_Date and convert to numeric\n",
    "df[\"Shamsi_Date_Num\"] = (df[\"Jalali_1\"].str[:4] + df[\"Jalali_1\"].str[5:7] + df[\"Jalali_1\"].str[8:10]).astype(int)\n"
   ],
   "id": "fc54c823495d0c4f",
   "outputs": [],
   "execution_count": 10
  },
  {
   "metadata": {},
   "cell_type": "code",
   "source": [
    "# Filter & Select\n",
    "# Assuming df is already a pandas DataFrame\n",
    "TrainRFM = df[df[\"module\"] == moduleSelected]\n",
    "\n",
    "TrainRFM = TrainRFM[TrainRFM[\"payment_status\"] == \"payed\"]\n",
    "TrainRFM = TrainRFM[TrainRFM[\"status\"] == \"finished\"]\n",
    "\n",
    "print(TrainRFM.columns)\n",
    "print(TrainRFM.shape)\n",
    "\n",
    "# select data for modeling\n",
    "TrainRFM = TrainRFM[['user_id', '_id', 'initial_total', 'module','Shamsi_Date_Num']]\n",
    "\n",
    "# print(TrainRFM.head(5))"
   ],
   "id": "fa653e668f4de066",
   "outputs": [],
   "execution_count": null
  },
  {
   "metadata": {
    "ExecuteTime": {
     "end_time": "2025-04-07T10:15:33.076495Z",
     "start_time": "2025-04-07T10:15:29.471473Z"
    }
   },
   "cell_type": "code",
   "source": [
    "# make R, F, M, L\n",
    "\n",
    "# !pip install jdatetime\n",
    "import jdatetime\n",
    "import datetime\n",
    "from datetime import date\n",
    "# from datetime import datetime\n",
    "\n",
    "# Group by user_id and calculate min and max dates\n",
    "TrainRFM_RB = TrainRFM.groupby(\"user_id\", as_index=False).agg(\n",
    "    minDate=(\"Shamsi_Date_Num\", \"min\"),\n",
    "    maxDate=(\"Shamsi_Date_Num\", \"max\")\n",
    ")\n",
    "\n",
    "\n",
    "def jalali_to_miladi(jalali_date):\n",
    "    # Extract year, month, day from the integer Jalali date\n",
    "    year = jalali_date // 10000\n",
    "    month = (jalali_date % 10000) // 100\n",
    "    day = jalali_date % 100\n",
    "\n",
    "    # Convert to Gregorian using jdatetime\n",
    "    gregorian_date = jdatetime.date(year, month, day).togregorian()\n",
    "\n",
    "    # Return formatted Gregorian date\n",
    "    return gregorian_date\n",
    "\n",
    "\n",
    "TrainRFM_RB['minDate_Miladi'] = TrainRFM_RB['minDate'].apply(jalali_to_miladi)\n",
    "TrainRFM_RB['maxDate_Miladi'] = TrainRFM_RB['maxDate'].apply(jalali_to_miladi)\n",
    "\n",
    "# TrainRFM_RB['maxDate_Miladi'] = TrainRFM_RB['maxDate_Miladi'].apply(\n",
    "#     lambda x: datetime.strptime(x, '%Y-%m-%d').date()\n",
    "# )\n",
    "\n",
    "TrainRFM_RB = TrainRFM_RB[\n",
    "    (TrainRFM_RB['maxDate'] >= start_date_jalali) & (TrainRFM_RB['maxDate'] <= target_date_jalali)]\n",
    "\n",
    "TrainRFM_RB['R'] = TrainRFM_RB['maxDate_Miladi'].apply(lambda d: (target_date - d).days)\n",
    "\n",
    "\n",
    "# calculate F\n",
    "TrainRFM_FB = TrainRFM.groupby('user_id').size().reset_index(name='F')\n",
    "\n",
    "TrainRFM_RFB = TrainRFM_RB.merge(TrainRFM_FB, how='left', on='user_id')\n",
    "\n",
    "# Calculate M\n",
    "\n",
    "TrainRFM_MB = TrainRFM.groupby('user_id').agg(M=('initial_total', 'sum')).reset_index()\n",
    "\n",
    "TrainRFMRFMB = TrainRFM_RFB.merge(TrainRFM_MB, on='user_id', how='left')\n",
    "\n",
    "TrainRFMRFMB['M'] = TrainRFMRFMB['M'].astype(float).astype(int)\n",
    "\n",
    "\n",
    "#Calculate L\n",
    "\n",
    "TrainRFMRFMBL = TrainRFMRFMB\n",
    "\n",
    "TrainRFMRFMBL['L'] = TrainRFMRFMBL.apply(lambda row: (row['maxDate_Miladi'] - row['minDate_Miladi']).days, axis=1) + 1\n",
    "\n",
    "print(TrainRFMRFMBL.head(5))\n"
   ],
   "id": "b623e7ebce0a865f",
   "outputs": [
    {
     "name": "stdout",
     "output_type": "stream",
     "text": [
      "                    user_id   minDate   maxDate minDate_Miladi maxDate_Miladi  \\\n",
      "0  60affeafd7651d2f521e1512  14030909  14030909     2024-11-29     2024-11-29   \n",
      "1  60affeb1d7651d2f521e158e  14030220  14030906     2024-05-09     2024-11-26   \n",
      "2  60affeb1d7651d2f521e1591  14030924  14030924     2024-12-14     2024-12-14   \n",
      "3  60affeb3d7651d2f521e16b9  14020113  14031120     2023-04-02     2025-02-08   \n",
      "4  60affeb3d7651d2f521e16d9  14010117  14030711     2022-04-06     2024-10-02   \n",
      "\n",
      "     R   F           M    L  \n",
      "0   81   1   225894480    1  \n",
      "1   84   4   436762280  202  \n",
      "2   66   1    12912400    1  \n",
      "3   10  24   152404431  679  \n",
      "4  139  20  1974570152  911  \n"
     ]
    }
   ],
   "execution_count": 13
  },
  {
   "metadata": {
    "ExecuteTime": {
     "end_time": "2025-04-07T10:17:07.282237Z",
     "start_time": "2025-04-07T10:17:06.638546Z"
    }
   },
   "cell_type": "code",
   "source": [
    "# Score R, F, M\n",
    "\n",
    "# R\n",
    "TrainRFMRFMLB['R_Norm'] = (TrainRFMRFMLB['R'] - TrainRFMRFMLB['R'].min()) / (TrainRFMRFMLB['R'].max() - TrainRFMRFMLB['R'].min())\n",
    "\n",
    "TrainRFMRFMLB['RNormScore'] = quantile_score(TrainRFMRFMLB['R_Norm'], 5)\n",
    "\n",
    "TrainRFMRFMLB['RNormScore'] = 6 - TrainRFMRFMLB['RNormScore']\n",
    "\n",
    "\n",
    "\n"
   ],
   "id": "d0e29dbf72f9e4cf",
   "outputs": [
    {
     "ename": "NameError",
     "evalue": "name 'TrainRFMRFMLB' is not defined",
     "output_type": "error",
     "traceback": [
      "\u001B[1;31m---------------------------------------------------------------------------\u001B[0m",
      "\u001B[1;31mNameError\u001B[0m                                 Traceback (most recent call last)",
      "Cell \u001B[1;32mIn[14], line 4\u001B[0m\n\u001B[0;32m      1\u001B[0m \u001B[38;5;66;03m# Score R, F, M\u001B[39;00m\n\u001B[0;32m      2\u001B[0m \n\u001B[0;32m      3\u001B[0m \u001B[38;5;66;03m# R\u001B[39;00m\n\u001B[1;32m----> 4\u001B[0m TrainRFMRFMLB[\u001B[38;5;124m'\u001B[39m\u001B[38;5;124mR_Norm\u001B[39m\u001B[38;5;124m'\u001B[39m] \u001B[38;5;241m=\u001B[39m (TrainRFMRFMLB[\u001B[38;5;124m'\u001B[39m\u001B[38;5;124mR\u001B[39m\u001B[38;5;124m'\u001B[39m] \u001B[38;5;241m-\u001B[39m TrainRFMRFMLB[\u001B[38;5;124m'\u001B[39m\u001B[38;5;124mR\u001B[39m\u001B[38;5;124m'\u001B[39m]\u001B[38;5;241m.\u001B[39mmin()) \u001B[38;5;241m/\u001B[39m (TrainRFMRFMLB[\u001B[38;5;124m'\u001B[39m\u001B[38;5;124mR\u001B[39m\u001B[38;5;124m'\u001B[39m]\u001B[38;5;241m.\u001B[39mmax() \u001B[38;5;241m-\u001B[39m TrainRFMRFMLB[\u001B[38;5;124m'\u001B[39m\u001B[38;5;124mR\u001B[39m\u001B[38;5;124m'\u001B[39m]\u001B[38;5;241m.\u001B[39mmin())\n\u001B[0;32m      6\u001B[0m TrainRFMRFMLB[\u001B[38;5;124m'\u001B[39m\u001B[38;5;124mRNormScore\u001B[39m\u001B[38;5;124m'\u001B[39m] \u001B[38;5;241m=\u001B[39m quantile_score(TrainRFMRFMLB[\u001B[38;5;124m'\u001B[39m\u001B[38;5;124mR_Norm\u001B[39m\u001B[38;5;124m'\u001B[39m], \u001B[38;5;241m5\u001B[39m)\n\u001B[0;32m      8\u001B[0m TrainRFMRFMLB[\u001B[38;5;124m'\u001B[39m\u001B[38;5;124mRNormScore\u001B[39m\u001B[38;5;124m'\u001B[39m] \u001B[38;5;241m=\u001B[39m \u001B[38;5;241m6\u001B[39m \u001B[38;5;241m-\u001B[39m TrainRFMRFMLB[\u001B[38;5;124m'\u001B[39m\u001B[38;5;124mRNormScore\u001B[39m\u001B[38;5;124m'\u001B[39m]\n",
      "\u001B[1;31mNameError\u001B[0m: name 'TrainRFMRFMLB' is not defined"
     ]
    }
   ],
   "execution_count": 14
  },
  {
   "metadata": {},
   "cell_type": "code",
   "outputs": [],
   "execution_count": null,
   "source": "",
   "id": "b7d777aae8900284"
  }
 ],
 "metadata": {
  "kernelspec": {
   "display_name": "Python 3",
   "language": "python",
   "name": "python3"
  },
  "language_info": {
   "codemirror_mode": {
    "name": "ipython",
    "version": 2
   },
   "file_extension": ".py",
   "mimetype": "text/x-python",
   "name": "python",
   "nbconvert_exporter": "python",
   "pygments_lexer": "ipython2",
   "version": "2.7.6"
  }
 },
 "nbformat": 4,
 "nbformat_minor": 5
}
