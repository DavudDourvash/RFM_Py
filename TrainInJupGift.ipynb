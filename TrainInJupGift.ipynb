{
 "cells": [
  {
   "metadata": {
    "ExecuteTime": {
     "end_time": "2025-04-03T09:15:54.781473Z",
     "start_time": "2025-04-03T09:15:54.336920Z"
    }
   },
   "cell_type": "code",
   "source": [
    "import pandas as pd\n",
    "import glob\n",
    "import locale\n",
    "import numpy as np\n",
    "import numpy as np\n",
    "\n",
    "locale.setlocale(locale.LC_ALL, 'fa_IR.UTF-8')\n"
   ],
   "id": "4d648bfb15ae932c",
   "outputs": [
    {
     "data": {
      "text/plain": [
       "'fa_IR.UTF-8'"
      ]
     },
     "execution_count": 1,
     "metadata": {},
     "output_type": "execute_result"
    }
   ],
   "execution_count": 1
  },
  {
   "metadata": {
    "ExecuteTime": {
     "end_time": "2025-04-03T09:15:54.792220Z",
     "start_time": "2025-04-03T09:15:54.781473Z"
    }
   },
   "cell_type": "code",
   "source": [
    "def quantile_score(vec, score):\n",
    "    scorevec = np.zeros(len(vec))\n",
    "    qu = np.quantile(vec, np.linspace(0, 1, score + 1))\n",
    "    scorevec[(vec <= qu[1]) & (vec >= qu[0])] = 1\n",
    "    for i in range(1, score - 1):\n",
    "        scorevec[(vec <= qu[i + 1]) & (vec > qu[i])] = i + 1\n",
    "    scorevec[vec > qu[score]] = score\n",
    "    return scorevec\n",
    "\n"
   ],
   "id": "42e36a5360a93879",
   "outputs": [],
   "execution_count": 2
  },
  {
   "metadata": {
    "ExecuteTime": {
     "end_time": "2025-04-03T09:15:58.736373Z",
     "start_time": "2025-04-03T09:15:54.991703Z"
    }
   },
   "cell_type": "code",
   "source": [
    "# Read Data\n",
    "# Folder containing Parquet files\n",
    "folder_path = \"Data/data/*.parquet\"\n",
    "\n",
    "# List all parquet files\n",
    "parquet_files = glob.glob(folder_path)\n",
    "\n",
    "# Read and concatenate all files\n",
    "df = pd.concat([pd.read_parquet(f) for f in parquet_files], ignore_index=True)\n"
   ],
   "id": "32b61f21856d28c8",
   "outputs": [],
   "execution_count": 3
  },
  {
   "metadata": {
    "ExecuteTime": {
     "end_time": "2025-04-03T09:15:58.766464Z",
     "start_time": "2025-04-03T09:15:58.759335Z"
    }
   },
   "cell_type": "code",
   "source": [
    "# Functions\n",
    "\n",
    "def quantile_score(vec, score):\n",
    "    scorevec = np.zeros(len(vec))\n",
    "    qu = np.quantile(vec, np.linspace(0, 1, score + 1))\n",
    "    scorevec[(vec <= qu[1]) & (vec >= qu[0])] = 1\n",
    "    for i in range(1, score - 1):\n",
    "        scorevec[(vec <= qu[i + 1]) & (vec > qu[i])] = i + 1\n",
    "    scorevec[vec > qu[score]] = score\n",
    "    return scorevec\n",
    "\n",
    "def generate_dates(years, months, days30, days31):\n",
    "    dates = []\n",
    "    for month in months:\n",
    "        if month in Months:\n",
    "            dates.append(f\"{years}{month}{days31}\")\n",
    "        else:\n",
    "            dates.append(f\"{years}{month}{days30}\")\n",
    "    return dates\n"
   ],
   "id": "d8fba669f710be5",
   "outputs": [],
   "execution_count": 4
  },
  {
   "metadata": {
    "ExecuteTime": {
     "end_time": "2025-04-03T09:15:58.785009Z",
     "start_time": "2025-04-03T09:15:58.778403Z"
    }
   },
   "cell_type": "code",
   "source": [
    "# Parameters\n",
    "\n",
    "start_date = 14030101  # Start train\n",
    "target_date = 14030631  # End train\n",
    "\n",
    "Years = [\"1403\"]\n",
    "Months = [\"{:02d}\".format(i) for i in range(1, 13)]  # Generates \"01\" to \"12\"\n",
    "Days30 = [\"{:02d}\".format(i) for i in range(1, 31)]  # Generates \"01\" to \"30\"\n",
    "Days31 = [\"{:02d}\".format(i) for i in range(1, 32)]  # Generates \"01\" to \"31\"\n",
    "\n",
    "print(\"Years:\", Years)\n",
    "print(\"Months:\", Months)\n",
    "print(\"Days30:\", Days30)\n",
    "print(\"Days31:\", Days31)\n"
   ],
   "id": "a561ff095a7eef73",
   "outputs": [
    {
     "name": "stdout",
     "output_type": "stream",
     "text": [
      "Years: ['1403']\n",
      "Months: ['01', '02', '03', '04', '05', '06', '07', '08', '09', '10', '11', '12']\n",
      "Days30: ['01', '02', '03', '04', '05', '06', '07', '08', '09', '10', '11', '12', '13', '14', '15', '16', '17', '18', '19', '20', '21', '22', '23', '24', '25', '26', '27', '28', '29', '30']\n",
      "Days31: ['01', '02', '03', '04', '05', '06', '07', '08', '09', '10', '11', '12', '13', '14', '15', '16', '17', '18', '19', '20', '21', '22', '23', '24', '25', '26', '27', '28', '29', '30', '31']\n"
     ]
    }
   ],
   "execution_count": 5
  },
  {
   "metadata": {
    "ExecuteTime": {
     "end_time": "2025-04-03T09:15:58.803446Z",
     "start_time": "2025-04-03T09:15:58.797661Z"
    }
   },
   "cell_type": "code",
   "source": "main_dates = generate_dates(Years, Months, Days30, Days31)\n",
   "id": "5be82036c8186e9e",
   "outputs": [],
   "execution_count": 6
  },
  {
   "metadata": {
    "ExecuteTime": {
     "end_time": "2025-04-03T09:15:58.819987Z",
     "start_time": "2025-04-03T09:15:58.813736Z"
    }
   },
   "cell_type": "code",
   "source": [
    "# Remove specific dates\n",
    "excluded_dates = {14021031, 14021131, 14021231, 14030731, 14030831, 14030931, 14031031, 14031131, 14031231}\n",
    "main_dates = [date for date in main_dates if date not in excluded_dates]"
   ],
   "id": "2367f2de49ae003f",
   "outputs": [],
   "execution_count": 7
  },
  {
   "metadata": {
    "ExecuteTime": {
     "end_time": "2025-04-03T09:15:58.922180Z",
     "start_time": "2025-04-03T09:15:58.831276Z"
    }
   },
   "cell_type": "code",
   "source": "DimDate = pd.read_csv(\"Data/data/DimDate.csv\")",
   "id": "651960c2a10c3c30",
   "outputs": [],
   "execution_count": 8
  },
  {
   "metadata": {
    "ExecuteTime": {
     "end_time": "2025-04-03T09:16:08.240150Z",
     "start_time": "2025-04-03T09:15:58.935514Z"
    }
   },
   "cell_type": "code",
   "source": [
    "import pandas as pd\n",
    "\n",
    "# Convert date column to string\n",
    "df[\"date_CHR\"] = df[\"date\"].astype(str)\n",
    "\n",
    "# Create Miladi_Num by extracting and concatenating substrings\n",
    "df[\"Miladi_Num\"] = df[\"date_CHR\"].str[:4] + df[\"date_CHR\"].str[5:7] + df[\"date_CHR\"].str[8:10]\n",
    "\n",
    "# Convert Miladi column to string\n",
    "DimDate[\"Miladi_CHR\"] = DimDate[\"Miladi\"].astype(str)\n",
    "\n",
    "# Create Miladi_Num in DimDate\n",
    "DimDate[\"Miladi_Num\"] = DimDate[\"Miladi_CHR\"].str[:4] + DimDate[\"Miladi_CHR\"].str[5:7] + DimDate[\"Miladi_CHR\"].str[8:10]\n",
    "\n",
    "# Select specific columns\n",
    "DimDateS = DimDate[[\"Jalali_1\", \"Miladi_Num\"]]\n",
    "\n",
    "# Left join on Miladi_Num\n",
    "df = df.merge(DimDateS, on=\"Miladi_Num\", how=\"left\")\n",
    "\n",
    "# Create Shamsi_Date and convert to numeric\n",
    "df[\"Shamsi_Date_Num\"] = (df[\"Jalali_1\"].str[:4] + df[\"Jalali_1\"].str[5:7] + df[\"Jalali_1\"].str[8:10]).astype(int)\n"
   ],
   "id": "ff69a4e0069bb0d9",
   "outputs": [],
   "execution_count": 9
  },
  {
   "metadata": {
    "ExecuteTime": {
     "end_time": "2025-04-03T09:16:08.761867Z",
     "start_time": "2025-04-03T09:16:08.256239Z"
    }
   },
   "cell_type": "code",
   "source": [
    "# Assuming df is already a pandas DataFrame\n",
    "TrainRFM = df[df[\"module\"] == \"Giftcard\"]\n",
    "\n",
    "TrainRFM = TrainRFM[TrainRFM[\"payment_status\"] == \"payed\"]\n",
    "\n",
    "TrainRFM.columns"
   ],
   "id": "b1b3074cf79e4ef6",
   "outputs": [
    {
     "data": {
      "text/plain": [
       "Index(['_id', 'user_id', 'date', 'client_type', 'status', 'payment_status',\n",
       "       'type', 'module', 'product_name', 'initial_total', 'product_price',\n",
       "       'converted_value', 'qty', 'module_unit_price', 'Amount_in_dollars',\n",
       "       'first_purchased', 'date_CHR', 'Miladi_Num', 'Jalali_1',\n",
       "       'Shamsi_Date_Num'],\n",
       "      dtype='object')"
      ]
     },
     "execution_count": 10,
     "metadata": {},
     "output_type": "execute_result"
    }
   ],
   "execution_count": 10
  },
  {
   "metadata": {
    "ExecuteTime": {
     "end_time": "2025-04-03T09:16:09.227086Z",
     "start_time": "2025-04-03T09:16:08.805495Z"
    }
   },
   "cell_type": "code",
   "source": [
    "# Group by user_id and calculate min and max dates\n",
    "TrainRFM_RB = TrainRFM.groupby(\"user_id\", as_index=False).agg(\n",
    "    minDate=(\"Shamsi_Date_Num\", \"min\"),\n",
    "    maxDate=(\"Shamsi_Date_Num\", \"max\")\n",
    ")\n",
    "\n",
    "# Initialize R_InitDF DataFrame\n",
    "R_InitDF = pd.DataFrame(columns=[\"user_id\", \"R\"])\n",
    "\n",
    "# Calculate R\n",
    "for i in range(len(TrainRFM_RB)):\n",
    "    R_Init = (np.where(MainDates == EndDate)[0][0] - np.where(MainDates == TrainRFM_RB.loc[i, \"maxDate\"])[0][0]) + 1\n",
    "    R_InitDF.loc[i] = [TrainRFM_RB.loc[i, \"user_id\"], R_Init]\n",
    "    print(i)\n",
    "\n",
    "# Merge R values back into TrainRFM_RB\n",
    "TrainRFM_RB = TrainRFM_RB.merge(R_InitDF, on=\"user_id\", how=\"left\")\n"
   ],
   "id": "152f3bcf22fb0a0d",
   "outputs": [
    {
     "ename": "NameError",
     "evalue": "name 'MainDates' is not defined",
     "output_type": "error",
     "traceback": [
      "\u001B[1;31m---------------------------------------------------------------------------\u001B[0m",
      "\u001B[1;31mNameError\u001B[0m                                 Traceback (most recent call last)",
      "Cell \u001B[1;32mIn[11], line 12\u001B[0m\n\u001B[0;32m     10\u001B[0m \u001B[38;5;66;03m# Calculate R\u001B[39;00m\n\u001B[0;32m     11\u001B[0m \u001B[38;5;28;01mfor\u001B[39;00m i \u001B[38;5;129;01min\u001B[39;00m \u001B[38;5;28mrange\u001B[39m(\u001B[38;5;28mlen\u001B[39m(TrainRFM_RB)):\n\u001B[1;32m---> 12\u001B[0m     R_Init \u001B[38;5;241m=\u001B[39m (np\u001B[38;5;241m.\u001B[39mwhere(\u001B[43mMainDates\u001B[49m \u001B[38;5;241m==\u001B[39m EndDate)[\u001B[38;5;241m0\u001B[39m][\u001B[38;5;241m0\u001B[39m] \u001B[38;5;241m-\u001B[39m np\u001B[38;5;241m.\u001B[39mwhere(MainDates \u001B[38;5;241m==\u001B[39m TrainRFM_RB\u001B[38;5;241m.\u001B[39mloc[i, \u001B[38;5;124m\"\u001B[39m\u001B[38;5;124mmaxDate\u001B[39m\u001B[38;5;124m\"\u001B[39m])[\u001B[38;5;241m0\u001B[39m][\u001B[38;5;241m0\u001B[39m]) \u001B[38;5;241m+\u001B[39m \u001B[38;5;241m1\u001B[39m\n\u001B[0;32m     13\u001B[0m     R_InitDF\u001B[38;5;241m.\u001B[39mloc[i] \u001B[38;5;241m=\u001B[39m [TrainRFM_RB\u001B[38;5;241m.\u001B[39mloc[i, \u001B[38;5;124m\"\u001B[39m\u001B[38;5;124muser_id\u001B[39m\u001B[38;5;124m\"\u001B[39m], R_Init]\n\u001B[0;32m     14\u001B[0m     \u001B[38;5;28mprint\u001B[39m(i)\n",
      "\u001B[1;31mNameError\u001B[0m: name 'MainDates' is not defined"
     ]
    }
   ],
   "execution_count": 11
  },
  {
   "metadata": {},
   "cell_type": "code",
   "outputs": [],
   "execution_count": null,
   "source": "",
   "id": "680eed518e31c009"
  }
 ],
 "metadata": {
  "kernelspec": {
   "display_name": "Python 3",
   "language": "python",
   "name": "python3"
  },
  "language_info": {
   "codemirror_mode": {
    "name": "ipython",
    "version": 2
   },
   "file_extension": ".py",
   "mimetype": "text/x-python",
   "name": "python",
   "nbconvert_exporter": "python",
   "pygments_lexer": "ipython2",
   "version": "2.7.6"
  }
 },
 "nbformat": 4,
 "nbformat_minor": 5
}
