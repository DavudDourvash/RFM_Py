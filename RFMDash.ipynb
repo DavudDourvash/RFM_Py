{
 "cells": [
  {
   "metadata": {
    "ExecuteTime": {
     "end_time": "2025-04-20T10:36:09.803316Z",
     "start_time": "2025-04-20T10:36:09.797804Z"
    }
   },
   "cell_type": "code",
   "source": "# Important : to make initial dataframe need to run RFMDash.ipynb and create TrainRFMRFMBL",
   "id": "cf656798365774a5",
   "outputs": [],
   "execution_count": 26
  },
  {
   "metadata": {
    "ExecuteTime": {
     "end_time": "2025-04-20T10:36:10.290849Z",
     "start_time": "2025-04-20T10:36:10.285202Z"
    }
   },
   "cell_type": "code",
   "source": [
    "# Start Dash\n",
    "# !pip install jupyter-dash\n",
    "# !pip install dash-bootstrap-components\n",
    "# pip install dash_mantine_components\n",
    "\n",
    "import dash\n",
    "from dash import Dash, dcc, dash_table, dcc, callback, Output, Input\n",
    "import plotly.express as px\n",
    "import pandas as pd\n",
    "import dash_bootstrap_components as dbc\n",
    "from dash.dependencies import Input, Output\n",
    "import plotly.express as px\n",
    "import dash_mantine_components as dmc\n",
    "\n",
    "from mainOnlineShopping import TrainRFMRFMBL"
   ],
   "id": "756b0b23f47fb21f",
   "outputs": [],
   "execution_count": 27
  },
  {
   "metadata": {
    "ExecuteTime": {
     "end_time": "2025-04-20T10:36:12.960883Z",
     "start_time": "2025-04-20T10:36:12.949115Z"
    }
   },
   "cell_type": "code",
   "source": [
    "# DataFrame Contain R, F, M for Visualization\n",
    "rfm_df = TrainRFMRFMBL[['user_id', 'RNormScore', 'FNormScore', 'MNormScore']]\n",
    "\n",
    "\n",
    "# Select numbers columns\n",
    "# rfm_df_numeric = rfm_df.select_dtypes(include=[np.number])\n",
    "\n",
    "# calc average\n",
    "# rfm_avg = rfm_df_numeric.mean().reset_index()\n",
    "\n",
    "# rename average columns\n",
    "# rfm_avg.columns = ['KPIs', 'Average']\n",
    "\n",
    "rfm_avg = rfm_df[['RNormScore', 'FNormScore', 'MNormScore']].mean().reset_index()\n",
    "\n",
    "rfm_avg.columns = ['KPIs', 'Scores']"
   ],
   "id": "a175d9f997afd3c4",
   "outputs": [],
   "execution_count": 28
  },
  {
   "metadata": {},
   "cell_type": "code",
   "outputs": [],
   "execution_count": null,
   "source": "",
   "id": "bc942332d331997b"
  },
  {
   "metadata": {},
   "cell_type": "code",
   "outputs": [],
   "execution_count": null,
   "source": "",
   "id": "37b8d3dbedbe6a89"
  },
  {
   "metadata": {},
   "cell_type": "code",
   "outputs": [],
   "execution_count": null,
   "source": "",
   "id": "7721c2fb296a5d"
  },
  {
   "metadata": {
    "ExecuteTime": {
     "end_time": "2025-04-20T10:37:07.110644Z",
     "start_time": "2025-04-20T10:37:07.102920Z"
    }
   },
   "cell_type": "code",
   "source": [
    "## Start App\n",
    "\n",
    "from dash import Dash, html, dcc, callback, Output, Input\n",
    "import plotly.express as px\n",
    "import pandas as pd"
   ],
   "id": "6f33f77cc242a77c",
   "outputs": [],
   "execution_count": 29
  },
  {
   "metadata": {
    "ExecuteTime": {
     "end_time": "2025-04-20T11:09:39.803599Z",
     "start_time": "2025-04-20T11:09:39.753896Z"
    }
   },
   "cell_type": "code",
   "source": [
    "app = Dash()\n",
    "\n",
    "# unique of user ids\n",
    "user_ids = TrainRFMRFMBL['user_id'].unique()"
   ],
   "id": "360f9df648e2d00b",
   "outputs": [],
   "execution_count": 33
  },
  {
   "metadata": {
    "ExecuteTime": {
     "end_time": "2025-04-20T11:09:40.152434Z",
     "start_time": "2025-04-20T11:09:40.077395Z"
    }
   },
   "cell_type": "code",
   "source": [
    "# Requires Dash 2.17.0 or later\n",
    "app.layout = [\n",
    "    html.H1(children='مانیتورینگ رفتار پویای مشتریان پرداخت ارزی', style={'textAlign':'right'}),\n",
    "    dcc.Dropdown(df.country.unique(), 'Canada', id='dropdown-selection'),\n",
    "    dcc.Graph(id='graph-content')\n",
    "]\n",
    "\n",
    "\n",
    "@callback(\n",
    "    Output('graph-content', 'figure'),\n",
    "    Input('dropdown-selection', 'value')\n",
    ")\n",
    "def update_graph(value):\n",
    "    dff = df[df.country==value]\n",
    "    return px.line(dff, x='year', y='pop')\n",
    "\n",
    "if __name__ == '__main__':\n",
    "    app.run(debug=True)"
   ],
   "id": "d0fc53776448e4f1",
   "outputs": [
    {
     "ename": "AttributeError",
     "evalue": "'DataFrame' object has no attribute 'country'",
     "output_type": "error",
     "traceback": [
      "\u001B[1;31m---------------------------------------------------------------------------\u001B[0m",
      "\u001B[1;31mAttributeError\u001B[0m                            Traceback (most recent call last)",
      "\u001B[1;32m~\\AppData\\Local\\Temp\\ipykernel_20044\\3297661585.py\u001B[0m in \u001B[0;36m?\u001B[1;34m()\u001B[0m\n\u001B[0;32m      1\u001B[0m \u001B[1;31m# Requires Dash 2.17.0 or later\u001B[0m\u001B[1;33m\u001B[0m\u001B[1;33m\u001B[0m\u001B[0m\n\u001B[0;32m      2\u001B[0m app.layout = [\n\u001B[0;32m      3\u001B[0m     \u001B[0mhtml\u001B[0m\u001B[1;33m.\u001B[0m\u001B[0mH1\u001B[0m\u001B[1;33m(\u001B[0m\u001B[0mchildren\u001B[0m\u001B[1;33m=\u001B[0m\u001B[1;34m'مانیتورینگ رفتار پویای مشتریان پرداخت ارزی'\u001B[0m\u001B[1;33m,\u001B[0m \u001B[0mstyle\u001B[0m\u001B[1;33m=\u001B[0m\u001B[1;33m{\u001B[0m\u001B[1;34m'textAlign'\u001B[0m\u001B[1;33m:\u001B[0m\u001B[1;34m'right'\u001B[0m\u001B[1;33m}\u001B[0m\u001B[1;33m)\u001B[0m\u001B[1;33m,\u001B[0m\u001B[1;33m\u001B[0m\u001B[1;33m\u001B[0m\u001B[0m\n\u001B[1;32m----> 4\u001B[1;33m     \u001B[0mdcc\u001B[0m\u001B[1;33m.\u001B[0m\u001B[0mDropdown\u001B[0m\u001B[1;33m(\u001B[0m\u001B[0mdf\u001B[0m\u001B[1;33m.\u001B[0m\u001B[0mcountry\u001B[0m\u001B[1;33m.\u001B[0m\u001B[0munique\u001B[0m\u001B[1;33m(\u001B[0m\u001B[1;33m)\u001B[0m\u001B[1;33m,\u001B[0m \u001B[1;34m'Canada'\u001B[0m\u001B[1;33m,\u001B[0m \u001B[0mid\u001B[0m\u001B[1;33m=\u001B[0m\u001B[1;34m'dropdown-selection'\u001B[0m\u001B[1;33m)\u001B[0m\u001B[1;33m,\u001B[0m\u001B[1;33m\u001B[0m\u001B[1;33m\u001B[0m\u001B[0m\n\u001B[0m\u001B[0;32m      5\u001B[0m     \u001B[0mdcc\u001B[0m\u001B[1;33m.\u001B[0m\u001B[0mGraph\u001B[0m\u001B[1;33m(\u001B[0m\u001B[0mid\u001B[0m\u001B[1;33m=\u001B[0m\u001B[1;34m'graph-content'\u001B[0m\u001B[1;33m)\u001B[0m\u001B[1;33m\u001B[0m\u001B[1;33m\u001B[0m\u001B[0m\n\u001B[0;32m      6\u001B[0m \u001B[1;33m]\u001B[0m\u001B[1;33m\u001B[0m\u001B[1;33m\u001B[0m\u001B[0m\n\u001B[0;32m      7\u001B[0m \u001B[1;33m\u001B[0m\u001B[0m\n",
      "\u001B[1;32m~\\anaconda3\\Lib\\site-packages\\pandas\\core\\generic.py\u001B[0m in \u001B[0;36m?\u001B[1;34m(self, name)\u001B[0m\n\u001B[0;32m   6295\u001B[0m             \u001B[1;32mand\u001B[0m \u001B[0mname\u001B[0m \u001B[1;32mnot\u001B[0m \u001B[1;32min\u001B[0m \u001B[0mself\u001B[0m\u001B[1;33m.\u001B[0m\u001B[0m_accessors\u001B[0m\u001B[1;33m\u001B[0m\u001B[1;33m\u001B[0m\u001B[0m\n\u001B[0;32m   6296\u001B[0m             \u001B[1;32mand\u001B[0m \u001B[0mself\u001B[0m\u001B[1;33m.\u001B[0m\u001B[0m_info_axis\u001B[0m\u001B[1;33m.\u001B[0m\u001B[0m_can_hold_identifiers_and_holds_name\u001B[0m\u001B[1;33m(\u001B[0m\u001B[0mname\u001B[0m\u001B[1;33m)\u001B[0m\u001B[1;33m\u001B[0m\u001B[1;33m\u001B[0m\u001B[0m\n\u001B[0;32m   6297\u001B[0m         \u001B[1;33m)\u001B[0m\u001B[1;33m:\u001B[0m\u001B[1;33m\u001B[0m\u001B[1;33m\u001B[0m\u001B[0m\n\u001B[0;32m   6298\u001B[0m             \u001B[1;32mreturn\u001B[0m \u001B[0mself\u001B[0m\u001B[1;33m[\u001B[0m\u001B[0mname\u001B[0m\u001B[1;33m]\u001B[0m\u001B[1;33m\u001B[0m\u001B[1;33m\u001B[0m\u001B[0m\n\u001B[1;32m-> 6299\u001B[1;33m         \u001B[1;32mreturn\u001B[0m \u001B[0mobject\u001B[0m\u001B[1;33m.\u001B[0m\u001B[0m__getattribute__\u001B[0m\u001B[1;33m(\u001B[0m\u001B[0mself\u001B[0m\u001B[1;33m,\u001B[0m \u001B[0mname\u001B[0m\u001B[1;33m)\u001B[0m\u001B[1;33m\u001B[0m\u001B[1;33m\u001B[0m\u001B[0m\n\u001B[0m",
      "\u001B[1;31mAttributeError\u001B[0m: 'DataFrame' object has no attribute 'country'"
     ]
    }
   ],
   "execution_count": 34
  },
  {
   "metadata": {},
   "cell_type": "code",
   "outputs": [],
   "execution_count": null,
   "source": "",
   "id": "5a07bdddeab3c208"
  },
  {
   "metadata": {},
   "cell_type": "code",
   "outputs": [],
   "execution_count": null,
   "source": "",
   "id": "91e632c901f1ca66"
  },
  {
   "metadata": {
    "ExecuteTime": {
     "end_time": "2025-04-20T10:34:55.485549Z",
     "start_time": "2025-04-20T10:34:55.447124Z"
    }
   },
   "cell_type": "code",
   "source": [
    "# Start app setting\n",
    "\n",
    "app = dash.Dash(__name__)\n",
    "\n",
    "# Unique Users\n",
    "user_ids = TrainRFMRFMBL['user_id'].unique()\n"
   ],
   "id": "9185d8210686d84",
   "outputs": [],
   "execution_count": 23
  },
  {
   "metadata": {},
   "cell_type": "code",
   "outputs": [],
   "execution_count": null,
   "source": "",
   "id": "23177747c75f1bcc"
  },
  {
   "metadata": {},
   "cell_type": "code",
   "outputs": [],
   "execution_count": null,
   "source": "",
   "id": "431d96f49ca7b8d5"
  },
  {
   "metadata": {},
   "cell_type": "code",
   "outputs": [],
   "execution_count": null,
   "source": "",
   "id": "c40bb200b77b9081"
  },
  {
   "metadata": {},
   "cell_type": "code",
   "outputs": [],
   "execution_count": null,
   "source": "",
   "id": "9a68a9a2e4cdc57"
  },
  {
   "metadata": {},
   "cell_type": "code",
   "outputs": [],
   "execution_count": null,
   "source": "",
   "id": "b7aefa3339ed01c3"
  },
  {
   "metadata": {},
   "cell_type": "code",
   "outputs": [],
   "execution_count": null,
   "source": [
    "if __name__ == '__main__':\n",
    "    app.run_server(debug=True)"
   ],
   "id": "d32ea9b659229441"
  },
  {
   "metadata": {},
   "cell_type": "code",
   "outputs": [],
   "source": "",
   "id": "4152fb355f999c2b",
   "execution_count": null
  }
 ],
 "metadata": {
  "kernelspec": {
   "display_name": "Python 3",
   "language": "python",
   "name": "python3"
  },
  "language_info": {
   "codemirror_mode": {
    "name": "ipython",
    "version": 2
   },
   "file_extension": ".py",
   "mimetype": "text/x-python",
   "name": "python",
   "nbconvert_exporter": "python",
   "pygments_lexer": "ipython2",
   "version": "2.7.6"
  }
 },
 "nbformat": 4,
 "nbformat_minor": 5
}
