{
 "cells": [
  {
   "cell_type": "code",
   "id": "initial_id",
   "metadata": {
    "collapsed": true,
    "ExecuteTime": {
     "end_time": "2025-04-19T11:25:23.507816Z",
     "start_time": "2025-04-19T11:25:22.989578Z"
    }
   },
   "source": [
    "# import pkgs\n",
    "import pandas as pd\n",
    "import glob\n",
    "import locale\n",
    "import numpy as np\n",
    "from datetime import date\n",
    "\n",
    "locale.setlocale(locale.LC_ALL, 'fa_IR.UTF-8')\n"
   ],
   "outputs": [
    {
     "data": {
      "text/plain": [
       "'fa_IR.UTF-8'"
      ]
     },
     "execution_count": 3,
     "metadata": {},
     "output_type": "execute_result"
    }
   ],
   "execution_count": 3
  },
  {
   "metadata": {
    "ExecuteTime": {
     "end_time": "2025-04-19T11:25:23.529925Z",
     "start_time": "2025-04-19T11:25:23.520974Z"
    }
   },
   "cell_type": "code",
   "source": [
    "# Functions\n",
    "\n",
    "def quantile_score(vec, score):\n",
    "    scorevec = np.zeros(len(vec))\n",
    "    qu = np.quantile(vec, np.linspace(0, 1, score + 1))\n",
    "    scorevec[(vec <= qu[1]) & (vec >= qu[0])] = 1\n",
    "    for i in range(1, score - 1):\n",
    "        scorevec[(vec <= qu[i + 1]) & (vec > qu[i])] = i + 1\n",
    "    scorevec[vec > qu[score]] = score\n",
    "    return scorevec\n",
    "\n",
    "def generate_dates(years, months, days30, days31):\n",
    "    dates = []\n",
    "    for month in months:\n",
    "        if month in Months:\n",
    "            dates.append(f\"{years}{month}{days31}\")\n",
    "        else:\n",
    "            dates.append(f\"{years}{month}{days30}\")\n",
    "    return dates\n"
   ],
   "id": "34ae08d3e8821963",
   "outputs": [],
   "execution_count": 4
  },
  {
   "metadata": {
    "ExecuteTime": {
     "end_time": "2025-04-19T11:25:23.565734Z",
     "start_time": "2025-04-19T11:25:23.558872Z"
    }
   },
   "cell_type": "code",
   "source": [
    "# Parameters\n",
    "\n",
    "start_date_jalali = 14030601\n",
    "target_date_jalali = 14031130\n",
    "start_date = date(2024, 8, 22)  # Start train\n",
    "target_date = date(2025, 2, 18)  # End train\n",
    "moduleSelected = \"Onlineshopping\"\n"
   ],
   "id": "d0d05f6cc4e34a8b",
   "outputs": [],
   "execution_count": 5
  },
  {
   "metadata": {
    "ExecuteTime": {
     "end_time": "2025-04-19T11:25:27.935689Z",
     "start_time": "2025-04-19T11:25:23.565734Z"
    }
   },
   "cell_type": "code",
   "source": [
    "# Read Data\n",
    "# Folder containing Parquet files\n",
    "folder_path = \"Data/data/*.parquet\"\n",
    "\n",
    "# List all parquet files\n",
    "parquet_files = glob.glob(folder_path)\n",
    "\n",
    "# Read and concatenate all files\n",
    "df = pd.concat([pd.read_parquet(f) for f in parquet_files], ignore_index=True)\n",
    "\n",
    "DimDate = pd.read_csv(\"Data/data/DimDate.csv\")\n"
   ],
   "id": "1b7077763306cbf1",
   "outputs": [],
   "execution_count": 6
  },
  {
   "metadata": {
    "ExecuteTime": {
     "end_time": "2025-04-19T11:25:36.174371Z",
     "start_time": "2025-04-19T11:25:27.968190Z"
    }
   },
   "cell_type": "code",
   "source": [
    "# Date Manipulations and Preperations\n",
    "DimDateS = DimDate[[\"Miladi3\", \"Jalali_1\"]]\n",
    "# Convert Miladi column to string\n",
    "DimDateS[\"Miladi3\"] = DimDateS[\"Miladi3\"].astype(str)\n",
    "DimDateS.rename(columns={\"Miladi3\": \"date_CHR\"}, inplace=True)\n",
    "\n",
    "\n",
    "df['date_CHR'] = df['date'].astype(str)\n",
    "\n",
    "# Left join on Miladi_Num\n",
    "df = df.merge(DimDateS, on=\"date_CHR\", how=\"left\")\n",
    "\n",
    "# Create Shamsi_Date and convert to numeric\n",
    "df[\"Shamsi_Date_Num\"] = (df[\"Jalali_1\"].str[:4] + df[\"Jalali_1\"].str[5:7] + df[\"Jalali_1\"].str[8:10]).astype(int)\n",
    "\n"
   ],
   "id": "8ca4e7b8e4434c85",
   "outputs": [
    {
     "name": "stderr",
     "output_type": "stream",
     "text": [
      "C:\\Users\\BiG\\AppData\\Local\\Temp\\ipykernel_16544\\620624324.py:4: SettingWithCopyWarning: \n",
      "A value is trying to be set on a copy of a slice from a DataFrame.\n",
      "Try using .loc[row_indexer,col_indexer] = value instead\n",
      "\n",
      "See the caveats in the documentation: https://pandas.pydata.org/pandas-docs/stable/user_guide/indexing.html#returning-a-view-versus-a-copy\n",
      "  DimDateS[\"Miladi3\"] = DimDateS[\"Miladi3\"].astype(str)\n",
      "C:\\Users\\BiG\\AppData\\Local\\Temp\\ipykernel_16544\\620624324.py:5: SettingWithCopyWarning: \n",
      "A value is trying to be set on a copy of a slice from a DataFrame\n",
      "\n",
      "See the caveats in the documentation: https://pandas.pydata.org/pandas-docs/stable/user_guide/indexing.html#returning-a-view-versus-a-copy\n",
      "  DimDateS.rename(columns={\"Miladi3\": \"date_CHR\"}, inplace=True)\n"
     ]
    }
   ],
   "execution_count": 7
  },
  {
   "metadata": {
    "ExecuteTime": {
     "end_time": "2025-04-19T11:25:36.912934Z",
     "start_time": "2025-04-19T11:25:36.193324Z"
    }
   },
   "cell_type": "code",
   "source": [
    "# Filter & Select Trains\n",
    "# Assuming df is already a pandas DataFrame\n",
    "TrainRFM = df[df[\"module\"] == moduleSelected]\n",
    "\n",
    "TrainRFM = TrainRFM[TrainRFM[\"payment_status\"] == \"payed\"]\n",
    "TrainRFM = TrainRFM[TrainRFM[\"status\"] == \"finished\"]\n",
    "\n",
    "print(TrainRFM.columns)\n",
    "print(TrainRFM.shape)\n",
    "\n",
    "# select data for modeling\n",
    "TrainRFM = TrainRFM[['user_id', '_id', 'initial_total', 'module','Shamsi_Date_Num', 'date']]\n",
    "\n",
    "# print(TrainRFM.head(5))"
   ],
   "id": "fa653e668f4de066",
   "outputs": [
    {
     "name": "stdout",
     "output_type": "stream",
     "text": [
      "Index(['_id', 'user_id', 'date', 'client_type', 'status', 'payment_status',\n",
      "       'type', 'module', 'product_name', 'initial_total', 'product_price',\n",
      "       'converted_value', 'qty', 'module_unit_price', 'Amount_in_dollars',\n",
      "       'first_purchased', 'date_CHR', 'Jalali_1', 'Shamsi_Date_Num'],\n",
      "      dtype='object')\n",
      "(503726, 19)\n"
     ]
    }
   ],
   "execution_count": 8
  },
  {
   "metadata": {
    "ExecuteTime": {
     "end_time": "2025-04-19T11:25:39.554926Z",
     "start_time": "2025-04-19T11:25:36.952018Z"
    }
   },
   "cell_type": "code",
   "source": [
    "# make R, F, M, L\n",
    "\n",
    "# !pip install jdatetime\n",
    "import jdatetime\n",
    "import datetime\n",
    "from datetime import date\n",
    "# from datetime import datetime\n",
    "\n",
    "# Group by user_id and calculate min and max dates\n",
    "TrainRFM_RB = TrainRFM.groupby(\"user_id\", as_index=False).agg(\n",
    "    minDate=(\"Shamsi_Date_Num\", \"min\"),\n",
    "    maxDate=(\"Shamsi_Date_Num\", \"max\")\n",
    ")\n",
    "\n",
    "\n",
    "\n",
    "def jalali_to_miladi(jalali_date):\n",
    "    # Extract year, month, day from the integer Jalali date\n",
    "    year = jalali_date // 10000\n",
    "    month = (jalali_date % 10000) // 100\n",
    "    day = jalali_date % 100\n",
    "\n",
    "    # Convert to Gregorian using jdatetime\n",
    "    gregorian_date = jdatetime.date(year, month, day).togregorian()\n",
    "\n",
    "    # Return formatted Gregorian date\n",
    "    return gregorian_date\n",
    "\n",
    "\n",
    "\n",
    "\n",
    "TrainRFM_RB['minDate_Miladi'] = TrainRFM_RB['minDate'].apply(jalali_to_miladi)\n",
    "TrainRFM_RB['maxDate_Miladi'] = TrainRFM_RB['maxDate'].apply(jalali_to_miladi)\n",
    "\n",
    "# TrainRFM_RB['maxDate_Miladi'] = TrainRFM_RB['maxDate_Miladi'].apply(\n",
    "#     lambda x: datetime.strptime(x, '%Y-%m-%d').date()\n",
    "# )\n",
    "\n",
    "TrainRFM_RB = TrainRFM_RB[\n",
    "    (TrainRFM_RB['maxDate'] >= start_date_jalali) & (TrainRFM_RB['maxDate'] <= target_date_jalali)]\n",
    "\n",
    "TrainRFM_RB['R'] = TrainRFM_RB['maxDate_Miladi'].apply(lambda d: (target_date - d).days)\n"
   ],
   "id": "b623e7ebce0a865f",
   "outputs": [],
   "execution_count": 9
  },
  {
   "metadata": {
    "ExecuteTime": {
     "end_time": "2025-04-19T11:25:39.791562Z",
     "start_time": "2025-04-19T11:25:39.558851Z"
    }
   },
   "cell_type": "code",
   "source": [
    "# calculate F\n",
    "TrainRFM_FB = TrainRFM.groupby('user_id').size().reset_index(name='F')\n",
    "\n",
    "TrainRFM_RFB = TrainRFM_RB.merge(TrainRFM_FB, how='left', on='user_id')\n"
   ],
   "id": "480f108c67785209",
   "outputs": [],
   "execution_count": 10
  },
  {
   "metadata": {
    "ExecuteTime": {
     "end_time": "2025-04-19T11:25:40.057536Z",
     "start_time": "2025-04-19T11:25:39.812369Z"
    }
   },
   "cell_type": "code",
   "source": [
    "# Calculate M\n",
    "\n",
    "TrainRFM_MB = TrainRFM.groupby('user_id').agg(M=('initial_total', 'sum')).reset_index()\n",
    "\n",
    "TrainRFMRFMB = TrainRFM_RFB.merge(TrainRFM_MB, on='user_id', how='left')\n",
    "\n",
    "TrainRFMRFMB['M'] = TrainRFMRFMB['M'].astype(float).astype(int)\n"
   ],
   "id": "5f618a997d2ee65e",
   "outputs": [],
   "execution_count": 11
  },
  {
   "metadata": {
    "ExecuteTime": {
     "end_time": "2025-04-19T11:25:40.303937Z",
     "start_time": "2025-04-19T11:25:40.079979Z"
    }
   },
   "cell_type": "code",
   "source": [
    "#Calculate L\n",
    "\n",
    "TrainRFMRFMBL = TrainRFMRFMB\n",
    "\n",
    "TrainRFMRFMBL['L'] = TrainRFMRFMBL.apply(lambda row: (row['maxDate_Miladi'] - row['minDate_Miladi']).days, axis=1) + 1\n"
   ],
   "id": "db657ec753361adc",
   "outputs": [],
   "execution_count": 12
  },
  {
   "metadata": {
    "ExecuteTime": {
     "end_time": "2025-04-19T11:25:40.342438Z",
     "start_time": "2025-04-19T11:25:40.330045Z"
    }
   },
   "cell_type": "code",
   "source": [
    "# Score R, F, M\n",
    "\n",
    "# R\n",
    "TrainRFMRFMBL['R_Norm'] = (TrainRFMRFMBL['R'] - TrainRFMRFMBL['R'].min()) / (TrainRFMRFMBL['R'].max() - TrainRFMRFMBL['R'].min())\n",
    "\n",
    "TrainRFMRFMBL['RNormScore'] = quantile_score(TrainRFMRFMBL['R_Norm'], 5)\n",
    "\n",
    "TrainRFMRFMBL['RNormScore'] = 6 - TrainRFMRFMBL['RNormScore']\n",
    "\n",
    "\n",
    "\n"
   ],
   "id": "d0e29dbf72f9e4cf",
   "outputs": [],
   "execution_count": 13
  },
  {
   "metadata": {
    "ExecuteTime": {
     "end_time": "2025-04-19T11:25:40.383011Z",
     "start_time": "2025-04-19T11:25:40.370119Z"
    }
   },
   "cell_type": "code",
   "source": [
    "# Keep F Original\n",
    "TrainRFMRFMBL['F_Org'] = TrainRFMRFMBL['F'].copy()\n",
    "\n",
    "# set F more than 200 equals 200\n",
    "\n",
    "TrainRFMRFMBL.loc[TrainRFMRFMBL['F'] > 200, 'F'] = 200\n",
    "\n",
    "TrainRFMRFMBL['F_Norm'] = (TrainRFMRFMBL['F'] - TrainRFMRFMBL['F'].min()) / \\\n",
    "                          (TrainRFMRFMBL['F'].max() - TrainRFMRFMBL['F'].min())\n",
    "\n",
    "# Assuming quantileScore is a custom function that needs to be defined\n",
    "TrainRFMRFMBL['FNormScore'] = quantile_score(TrainRFMRFMBL['F_Norm'], 5)"
   ],
   "id": "cc1e0c0eb63b4a8f",
   "outputs": [],
   "execution_count": 14
  },
  {
   "metadata": {
    "ExecuteTime": {
     "end_time": "2025-04-19T11:25:40.421722Z",
     "start_time": "2025-04-19T11:25:40.407849Z"
    }
   },
   "cell_type": "code",
   "source": [
    "# Keep original M\n",
    "TrainRFMRFMBL['M_Org'] = TrainRFMRFMBL['M'].copy()\n",
    "\n",
    "# set M more than 4,000,000,000 equals to 4,000,000,000\n",
    "TrainRFMRFMBL['M'] = np.where(TrainRFMRFMBL['M'] >= 4000000000, 4000000000, TrainRFMRFMBL['M'])\n",
    "\n",
    "\n",
    "# M\n",
    "TrainRFMRFMBL['M_Norm'] = (TrainRFMRFMBL['M'] - TrainRFMRFMBL['M'].min()) / \\\n",
    "                           (TrainRFMRFMBL['M'].max() - TrainRFMRFMBL['M'].min())\n",
    "\n",
    "# Assuming quantileScore is a custom function defined elsewhere\n",
    "TrainRFMRFMBL['MNormScore'] = quantile_score(TrainRFMRFMBL['M_Norm'], 5)"
   ],
   "id": "2b37f1410463da39",
   "outputs": [],
   "execution_count": 15
  },
  {
   "metadata": {
    "ExecuteTime": {
     "end_time": "2025-04-19T11:25:41.549031Z",
     "start_time": "2025-04-19T11:25:40.450833Z"
    }
   },
   "cell_type": "code",
   "source": [
    "# Start Dash\n",
    "# !pip install jupyter-dash\n",
    "# !pip install dash-bootstrap-components\n",
    "\n",
    "from dash import Dash, dcc, html\n",
    "import plotly.express as px\n",
    "import pandas as pd"
   ],
   "id": "756b0b23f47fb21f",
   "outputs": [],
   "execution_count": 16
  },
  {
   "metadata": {
    "ExecuteTime": {
     "end_time": "2025-04-19T11:25:41.640219Z",
     "start_time": "2025-04-19T11:25:41.574459Z"
    }
   },
   "cell_type": "code",
   "source": [
    "import dash\n",
    "from dash import dcc, html\n",
    "import dash_bootstrap_components as dbc\n",
    "from dash.dependencies import Input, Output\n",
    "import plotly.express as px\n",
    "import pandas as pd"
   ],
   "id": "178615441d9abb5d",
   "outputs": [],
   "execution_count": 17
  },
  {
   "metadata": {
    "ExecuteTime": {
     "end_time": "2025-04-19T11:25:41.674111Z",
     "start_time": "2025-04-19T11:25:41.667116Z"
    }
   },
   "cell_type": "code",
   "source": [
    "# فرض بر اینکه دیتافریم RFM آماده‌ست\n",
    "rfm_df = TrainRFMRFMBL[['user_id', 'RNormScore', 'FNormScore', 'MNormScore']]\n"
   ],
   "id": "6e90027480c03b79",
   "outputs": [],
   "execution_count": 18
  },
  {
   "metadata": {
    "ExecuteTime": {
     "end_time": "2025-04-19T11:25:41.714232Z",
     "start_time": "2025-04-19T11:25:41.700901Z"
    }
   },
   "cell_type": "code",
   "source": [
    "# انتخاب فقط ستون‌های عددی برای محاسبه میانگین\n",
    "rfm_df_numeric = rfm_df.select_dtypes(include=[np.number])\n",
    "\n",
    "# محاسبه میانگین برای ستون‌های عددی\n",
    "rfm_avg = rfm_df_numeric.mean().reset_index()\n",
    "\n",
    "# تغییر نام ستون‌ها برای نتیجه‌ی میانگین\n",
    "rfm_avg.columns = ['Metric', 'Average']\n",
    "\n",
    "rfm_avg = rfm_df[['RNormScore', 'FNormScore', 'MNormScore']].mean().reset_index()\n",
    "\n"
   ],
   "id": "a175d9f997afd3c4",
   "outputs": [],
   "execution_count": 19
  },
  {
   "metadata": {
    "ExecuteTime": {
     "end_time": "2025-04-19T11:25:41.746325Z",
     "start_time": "2025-04-19T11:25:41.739766Z"
    }
   },
   "cell_type": "code",
   "source": "rfm_avg.columns = ['Metric', 'Value']",
   "id": "3a52af8542f16275",
   "outputs": [],
   "execution_count": 20
  },
  {
   "metadata": {
    "ExecuteTime": {
     "end_time": "2025-04-19T11:32:40.196783Z",
     "start_time": "2025-04-19T11:32:40.145725Z"
    }
   },
   "cell_type": "code",
   "source": [
    "app = dash.Dash(__name__)\n",
    "\n",
    "user_ids = TrainRFMRFMBL['user_id'].unique()\n"
   ],
   "id": "9185d8210686d84",
   "outputs": [],
   "execution_count": 21
  },
  {
   "metadata": {
    "ExecuteTime": {
     "end_time": "2025-04-19T11:33:13.649714Z",
     "start_time": "2025-04-19T11:33:13.630804Z"
    }
   },
   "cell_type": "code",
   "source": [
    "app.layout = html.Div([\n",
    "    html.H1(\"نمایش RFM کاربران\", style={'textAlign': 'center'}),\n",
    "\n",
    "    dcc.Dropdown(\n",
    "        id='user_id_dropdown',\n",
    "        options=[{'label': user_id, 'value': user_id} for user_id in user_ids],\n",
    "        value=user_ids[0],  # مقدار پیش‌فرض\n",
    "        style={'width': '50%', 'margin': 'auto'}\n",
    "    ),\n",
    "\n",
    "\n",
    "    html.Div(id='rfm_values', style={'textAlign': 'center', 'marginTop': '20px'}),\n",
    "\n",
    "\n",
    "    dcc.Graph(id='rfm_bar_chart')\n",
    "])\n"
   ],
   "id": "43943ac430a8942a",
   "outputs": [],
   "execution_count": 22
  },
  {
   "metadata": {
    "ExecuteTime": {
     "end_time": "2025-04-19T11:34:16.926627Z",
     "start_time": "2025-04-19T11:34:16.918071Z"
    }
   },
   "cell_type": "code",
   "source": [
    "# کال‌بک برای نمایش مقادیر RFM بر اساس انتخاب user_id\n",
    "@app.callback(\n",
    "    [Output('rfm_values', 'children'),\n",
    "     Output('rfm_bar_chart', 'figure')],\n",
    "    [Input('user_id_dropdown', 'value')]\n",
    ")\n",
    "def update_rfm(user_id):\n",
    "    # فیلتر کردن دیتافریم بر اساس user_id انتخاب شده\n",
    "    user_rfm = TrainRFMRFMBL[TrainRFMRFMBL['user_id'] == user_id]\n",
    "\n",
    "    # استخراج مقادیر R, F, M\n",
    "    R_value = user_rfm['R'].iloc[0]\n",
    "    F_value = user_rfm['F'].iloc[0]\n",
    "    M_value = user_rfm['M'].iloc[0]\n",
    "\n",
    "    # نمایش مقادیر RFM\n",
    "    rfm_display = html.Div([\n",
    "        html.P(f\"R: {R_value}\"),\n",
    "        html.P(f\"F: {F_value}\"),\n",
    "        html.P(f\"M: {M_value}\")\n",
    "    ])\n",
    "\n",
    "    # ایجاد نمودار میله‌ای از مقادیر RFM\n",
    "    rfm_fig = {\n",
    "        'data': [\n",
    "            {'x': ['R', 'F', 'M'], 'y': [R_value, F_value, M_value], 'type': 'bar', 'name': user_id}\n",
    "        ],\n",
    "        'layout': {\n",
    "            'title': f\"RFM for user {user_id}\",\n",
    "            'xaxis': {'title': 'Metric'},\n",
    "            'yaxis': {'title': 'Value'}\n",
    "        }\n",
    "    }\n",
    "\n",
    "    return rfm_display, rfm_fig\n"
   ],
   "id": "1cf345b89c0fa71a",
   "outputs": [],
   "execution_count": 24
  },
  {
   "metadata": {
    "ExecuteTime": {
     "end_time": "2025-04-19T11:34:27.678256Z",
     "start_time": "2025-04-19T11:34:27.616223Z"
    }
   },
   "cell_type": "code",
   "source": [
    "if __name__ == '__main__':\n",
    "    app.run_server(debug=True)"
   ],
   "id": "d32ea9b659229441",
   "outputs": [
    {
     "data": {
      "text/plain": [
       "<IPython.lib.display.IFrame at 0x1ee4de13830>"
      ],
      "text/html": [
       "\n",
       "        <iframe\n",
       "            width=\"100%\"\n",
       "            height=\"650\"\n",
       "            src=\"http://127.0.0.1:8050/\"\n",
       "            frameborder=\"0\"\n",
       "            allowfullscreen\n",
       "            \n",
       "        ></iframe>\n",
       "        "
      ]
     },
     "metadata": {},
     "output_type": "display_data"
    }
   ],
   "execution_count": 25
  },
  {
   "metadata": {},
   "cell_type": "code",
   "outputs": [],
   "execution_count": null,
   "source": "",
   "id": "4152fb355f999c2b"
  }
 ],
 "metadata": {
  "kernelspec": {
   "display_name": "Python 3",
   "language": "python",
   "name": "python3"
  },
  "language_info": {
   "codemirror_mode": {
    "name": "ipython",
    "version": 2
   },
   "file_extension": ".py",
   "mimetype": "text/x-python",
   "name": "python",
   "nbconvert_exporter": "python",
   "pygments_lexer": "ipython2",
   "version": "2.7.6"
  }
 },
 "nbformat": 4,
 "nbformat_minor": 5
}
