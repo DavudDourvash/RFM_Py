{
 "cells": [
  {
   "metadata": {
    "ExecuteTime": {
     "end_time": "2025-04-20T15:04:58.297752Z",
     "start_time": "2025-04-20T15:04:42.525173Z"
    }
   },
   "cell_type": "code",
   "source": [
    "# Important : to make initial dataframe need to run RFMDash.ipynb and create TrainRFMRFMBL\n",
    "\n",
    "%run \"TrainInJupOnlineShopping.ipynb\"\n"
   ],
   "id": "cf656798365774a5",
   "outputs": [
    {
     "name": "stderr",
     "output_type": "stream",
     "text": [
      "C:\\Users\\BiG\\AppData\\Local\\Temp\\ipykernel_6784\\2681434285.py:4: SettingWithCopyWarning: \n",
      "A value is trying to be set on a copy of a slice from a DataFrame.\n",
      "Try using .loc[row_indexer,col_indexer] = value instead\n",
      "\n",
      "See the caveats in the documentation: https://pandas.pydata.org/pandas-docs/stable/user_guide/indexing.html#returning-a-view-versus-a-copy\n",
      "  DimDateS[\"Miladi3\"] = DimDateS[\"Miladi3\"].astype(str)\n",
      "C:\\Users\\BiG\\AppData\\Local\\Temp\\ipykernel_6784\\2681434285.py:5: SettingWithCopyWarning: \n",
      "A value is trying to be set on a copy of a slice from a DataFrame\n",
      "\n",
      "See the caveats in the documentation: https://pandas.pydata.org/pandas-docs/stable/user_guide/indexing.html#returning-a-view-versus-a-copy\n",
      "  DimDateS.rename(columns={\"Miladi3\": \"date_CHR\"}, inplace=True)\n"
     ]
    },
    {
     "name": "stdout",
     "output_type": "stream",
     "text": [
      "Index(['_id', 'user_id', 'date', 'client_type', 'status', 'payment_status',\n",
      "       'type', 'module', 'product_name', 'initial_total', 'product_price',\n",
      "       'converted_value', 'qty', 'module_unit_price', 'Amount_in_dollars',\n",
      "       'first_purchased', 'date_CHR', 'Jalali_1', 'Shamsi_Date_Num'],\n",
      "      dtype='object')\n",
      "(503726, 19)\n"
     ]
    }
   ],
   "execution_count": 1
  },
  {
   "metadata": {
    "ExecuteTime": {
     "end_time": "2025-04-20T15:05:04.058515Z",
     "start_time": "2025-04-20T15:05:04.045758Z"
    }
   },
   "cell_type": "code",
   "source": [
    "import pandas as pd\n",
    "data = TrainRFMRFMBL[['user_id', 'R', 'F', 'M', 'RNormScore', 'FNormScore', 'MNormScore']]\n",
    "df = pd.DataFrame(data)"
   ],
   "id": "32c161819d609c9d",
   "outputs": [],
   "execution_count": 3
  },
  {
   "metadata": {
    "ExecuteTime": {
     "end_time": "2025-04-20T15:05:08.805320Z",
     "start_time": "2025-04-20T15:05:07.482738Z"
    }
   },
   "cell_type": "code",
   "source": [
    "from dash import Dash, html, dcc, callback, Output, Input\n",
    "import plotly.express as px\n",
    "import pandas as pd\n",
    "\n",
    "app = Dash()\n",
    "\n",
    "\n",
    "app.layout = html.Div([\n",
    "    html.Div(\n",
    "        children=\"مانیتورینگ رفتار پویای مشتریان\", #/# Add Font next\n",
    "        style={\n",
    "            'backgroundColor': 'lightblue',\n",
    "            'padding': '10px',\n",
    "            'fontSize': '20px',\n",
    "            'textAlign': 'center',\n",
    "            'fontWeight': 'bold'\n",
    "        }\n",
    "    ),\n",
    "    # html.H1(children='Title of Dash App', style={'textAlign':'center'}),\n",
    "    dcc.Dropdown(df['user_id'].unique(), id = 'dropdown_selection'),\n",
    "    dcc.Graph(id='barchart_usersRFM')\n",
    "])\n",
    "\n",
    "@callback(\n",
    "    Output('barchart_usersRFM', 'figure'),\n",
    "    Input('dropdown_selection', 'value')\n",
    ")\n",
    "\n",
    "def update_bar_chart(value):\n",
    "    dff = df[df['user_id'] == value]\n",
    "    fig = px.bar(\n",
    "                x=['RNormScore', 'FNormScore', 'MNormScore'],\n",
    "                y=[dff['RNormScore'].iloc[0], dff['FNormScore'].iloc[0], dff['MNormScore'].iloc[0]],\n",
    "                labels={'x': 'Metric', 'y': 'Normalized Score'},\n",
    "                title=\"Normalized Scores\",\n",
    "                color_discrete_sequence=['lightgreen']\n",
    "            )\n",
    "    return fig\n",
    "\n",
    "\n",
    "if __name__ == '__main__':\n",
    "    app.run(debug=True)\n"
   ],
   "id": "53b2f8500d9b0ce7",
   "outputs": [
    {
     "data": {
      "text/plain": [
       "<IPython.lib.display.IFrame at 0x2627d44df10>"
      ],
      "text/html": [
       "\n",
       "        <iframe\n",
       "            width=\"100%\"\n",
       "            height=\"650\"\n",
       "            src=\"http://127.0.0.1:8050/\"\n",
       "            frameborder=\"0\"\n",
       "            allowfullscreen\n",
       "            \n",
       "        ></iframe>\n",
       "        "
      ]
     },
     "metadata": {},
     "output_type": "display_data"
    }
   ],
   "execution_count": 4
  },
  {
   "metadata": {
    "ExecuteTime": {
     "end_time": "2025-04-20T15:00:27.712279400Z",
     "start_time": "2025-04-20T14:58:04.511798Z"
    }
   },
   "cell_type": "code",
   "source": [
    "# import dash\n",
    "# from dash import dcc, html\n",
    "# from dash.dependencies import Input, Output\n",
    "# import pandas as pd\n",
    "# import plotly.express as px\n",
    "#\n",
    "# # فرض می‌کنیم TrainRFMRFMBL قبلاً تعریف شده است.\n",
    "# data = TrainRFMRFMBL[['user_id', 'R', 'F', 'M', 'RNormScore', 'FNormScore', 'MNormScore']]\n",
    "#\n",
    "# # تبدیل داده به DataFrame\n",
    "# df = pd.DataFrame(data)\n",
    "#\n",
    "# # ساخت اپلیکیشن Dash\n",
    "# app = dash.Dash(__name__, suppress_callback_exceptions=True)  # اضافه کردن این گزینه\n",
    "#\n",
    "# app.layout = html.Div([\n",
    "#     # نوار بالای داشبورد\n",
    "#     html.Div(\n",
    "#         children=\"مانیتورینگ رفتار مشتریان\",\n",
    "#         style={\n",
    "#             'backgroundColor': 'lightblue',\n",
    "#             'padding': '10px',\n",
    "#             'fontSize': '20px',\n",
    "#             'textAlign': 'center',\n",
    "#             'fontWeight': 'bold'\n",
    "#         }\n",
    "#     ),\n",
    "#\n",
    "#     # لای اوت اصلی با دو بخش: تب‌ها و محتویات\n",
    "#     html.Div([\n",
    "#         # نوار تب‌ها\n",
    "#         dcc.Tabs(id='tabs', value='tab1', children=[\n",
    "#             dcc.Tab(label='tab1', value='tab1'),\n",
    "#             dcc.Tab(label='tab2', value='tab2'),\n",
    "#             dcc.Tab(label='tab3', value='tab3'),\n",
    "#             dcc.Tab(label='tab4', value='tab4'),\n",
    "#         ], style={'width': '20%', 'display': 'inline-block', 'verticalAlign': 'top'}),\n",
    "#\n",
    "#         # محتویات تب‌ها\n",
    "#         html.Div(id='tab-content', style={'width': '75%', 'display': 'inline-block'})\n",
    "#     ], style={'display': 'flex'})\n",
    "# ])\n",
    "#\n",
    "# # محتویات هر تب\n",
    "# @app.callback(\n",
    "#     Output('tab-content', 'children'),\n",
    "#     Input('tabs', 'value')\n",
    "# )\n",
    "# def render_tab(tab):\n",
    "#     if tab == 'tab1':\n",
    "#         dropdown = dcc.Dropdown(\n",
    "#             id='user-id-dropdown',\n",
    "#             options=[{'label': i, 'value': i} for i in df['user_id'].unique()],\n",
    "#             value=df['user_id'].iloc[0],  # مقدار اولیه\n",
    "#         )\n",
    "#\n",
    "#         # جدول برای R, F, M\n",
    "#         table = html.Table([\n",
    "#             html.Tr([html.Th(\"Feature\"), html.Th(\"Value\")]),\n",
    "#             html.Tr([html.Td(\"R\"), html.Td(df['R'].iloc[0])]),\n",
    "#             html.Tr([html.Td(\"F\"), html.Td(df['F'].iloc[0])]),\n",
    "#             html.Tr([html.Td(\"M\"), html.Td(df['M'].iloc[0])]),\n",
    "#         ])\n",
    "#\n",
    "#         # بارچارت برای RNormScore, FNormScore, MNormScore\n",
    "#         bar_chart = dcc.Graph(\n",
    "#             figure=px.bar(\n",
    "#                 x=['RNormScore', 'FNormScore', 'MNormScore'],\n",
    "#                 y=[df['RNormScore'].iloc[0], df['FNormScore'].iloc[0], df['MNormScore'].iloc[0]],\n",
    "#                 labels={'x': 'Metric', 'y': 'Normalized Score'},\n",
    "#                 title=\"Normalized Scores\",\n",
    "#                 color_discrete_sequence=['lightgreen']\n",
    "#             )\n",
    "#         )\n",
    "#\n",
    "#         return html.Div([\n",
    "#             # پنل کرکره ای\n",
    "#             html.Div([\n",
    "#                 html.Label('Select User ID'),\n",
    "#                 dropdown\n",
    "#             ], style={'width': '30%', 'padding': '10px', 'display': 'inline-block'}),\n",
    "#\n",
    "#             # پنل‌های عمودی\n",
    "#             html.Div([\n",
    "#                 # پنل چپ (جدول)\n",
    "#                 html.Div([table], style={'width': '48%', 'display': 'inline-block', 'verticalAlign': 'top'}),\n",
    "#                 # پنل راست (بارچارت)\n",
    "#                 html.Div([bar_chart], style={'width': '48%', 'display': 'inline-block', 'verticalAlign': 'top'})\n",
    "#             ], style={'display': 'flex', 'justifyContent': 'space-between'})\n",
    "#         ])\n",
    "#     elif tab == 'tab2':\n",
    "#         return html.Div(\"Content for tab2\")\n",
    "#     elif tab == 'tab3':\n",
    "#         return html.Div(\"Content for tab3\")\n",
    "#     elif tab == 'tab4':\n",
    "#         return html.Div(\"Content for tab4\")\n",
    "#\n",
    "# if __name__ == '__main__':\n",
    "#     app.run_server(debug=True)\n"
   ],
   "id": "d0fc53776448e4f1",
   "outputs": [],
   "execution_count": 4
  },
  {
   "metadata": {
    "ExecuteTime": {
     "end_time": "2025-04-20T15:00:27.712279400Z",
     "start_time": "2025-04-20T14:58:04.556261Z"
    }
   },
   "cell_type": "code",
   "source": "",
   "id": "5a07bdddeab3c208",
   "outputs": [],
   "execution_count": null
  },
  {
   "metadata": {
    "ExecuteTime": {
     "end_time": "2025-04-20T15:00:27.712279400Z",
     "start_time": "2025-04-20T14:58:04.647412Z"
    }
   },
   "cell_type": "code",
   "source": "",
   "id": "91e632c901f1ca66",
   "outputs": [],
   "execution_count": null
  },
  {
   "metadata": {
    "ExecuteTime": {
     "end_time": "2025-04-20T15:00:27.712279400Z",
     "start_time": "2025-04-20T14:58:04.715134Z"
    }
   },
   "cell_type": "code",
   "source": "",
   "id": "23177747c75f1bcc",
   "outputs": [],
   "execution_count": null
  },
  {
   "metadata": {
    "ExecuteTime": {
     "end_time": "2025-04-20T15:00:27.712279400Z",
     "start_time": "2025-04-20T14:58:04.772953Z"
    }
   },
   "cell_type": "code",
   "source": "",
   "id": "431d96f49ca7b8d5",
   "outputs": [],
   "execution_count": null
  },
  {
   "metadata": {
    "ExecuteTime": {
     "end_time": "2025-04-20T15:00:27.712279400Z",
     "start_time": "2025-04-20T14:58:04.818829Z"
    }
   },
   "cell_type": "code",
   "source": "",
   "id": "c40bb200b77b9081",
   "outputs": [],
   "execution_count": null
  },
  {
   "metadata": {
    "ExecuteTime": {
     "end_time": "2025-04-20T15:00:27.712279400Z",
     "start_time": "2025-04-20T14:58:04.866166Z"
    }
   },
   "cell_type": "code",
   "source": "",
   "id": "9a68a9a2e4cdc57",
   "outputs": [],
   "execution_count": null
  },
  {
   "metadata": {
    "ExecuteTime": {
     "end_time": "2025-04-20T15:00:27.712279400Z",
     "start_time": "2025-04-20T14:58:04.943746Z"
    }
   },
   "cell_type": "code",
   "source": "",
   "id": "b7aefa3339ed01c3",
   "outputs": [],
   "execution_count": null
  },
  {
   "metadata": {
    "ExecuteTime": {
     "end_time": "2025-04-20T15:00:27.712279400Z",
     "start_time": "2025-04-20T14:58:05.019067Z"
    }
   },
   "cell_type": "code",
   "source": "",
   "id": "4152fb355f999c2b",
   "outputs": [],
   "execution_count": null
  }
 ],
 "metadata": {
  "kernelspec": {
   "display_name": "Python 3",
   "language": "python",
   "name": "python3"
  },
  "language_info": {
   "codemirror_mode": {
    "name": "ipython",
    "version": 2
   },
   "file_extension": ".py",
   "mimetype": "text/x-python",
   "name": "python",
   "nbconvert_exporter": "python",
   "pygments_lexer": "ipython2",
   "version": "2.7.6"
  }
 },
 "nbformat": 4,
 "nbformat_minor": 5
}
