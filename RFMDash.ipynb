{
 "cells": [
  {
   "metadata": {},
   "cell_type": "code",
   "source": [
    "from pydoc import classname\n",
    "\n",
    "from dill.pointers import children\n",
    "# Important : to make initial dataframe need to run RFMDash.ipynb and create TrainRFMRFMBL\n",
    "\n",
    "%run \"TrainInJupOnlineShopping.ipynb\"\n"
   ],
   "id": "cf656798365774a5",
   "outputs": [],
   "execution_count": null
  },
  {
   "metadata": {},
   "cell_type": "code",
   "source": [
    "import pandas as pd\n",
    "data = TrainRFMRFMBL[['user_id', 'R', 'F', 'M', 'RNormScore', 'FNormScore', 'MNormScore']]\n",
    "df = pd.DataFrame(data)"
   ],
   "id": "32c161819d609c9d",
   "outputs": [],
   "execution_count": null
  },
  {
   "metadata": {},
   "cell_type": "code",
   "source": [
    "# pip install plotly.express\n",
    "# pip install dash\n",
    "# pip install dash_bootstrap_components\n"
   ],
   "id": "7654beb61a00d685",
   "outputs": [],
   "execution_count": null
  },
  {
   "metadata": {},
   "cell_type": "code",
   "source": [
    "from dash import Dash, html, dcc, callback, Output, Input, dash_table\n",
    "import plotly.express as px\n",
    "import dash_bootstrap_components as dbc\n",
    "import pandas as pd\n",
    "\n"
   ],
   "id": "53b2f8500d9b0ce7",
   "outputs": [],
   "execution_count": null
  },
  {
   "metadata": {},
   "cell_type": "code",
   "source": [
    "\n",
    "# HTML Version\n",
    "\n",
    "# Initialize the app - incorporate css\n",
    "external_stylesheets = ['https://codepen.io/chriddyp/pen/bWLwgP.css']\n",
    "app = Dash(external_stylesheets=external_stylesheets)\n",
    "\n",
    "\n",
    "app.layout = [\n",
    "    html.Div(className='row',\n",
    "        children=\"مانیتورینگ رفتار پویای مشتریان\", #/# Add Font next\n",
    "        style={\n",
    "            'backgroundColor': 'lightblue',\n",
    "            'padding': '10px',\n",
    "            'fontSize': '20px',\n",
    "            'textAlign': 'center',\n",
    "            'fontWeight': 'bold'\n",
    "        }),\n",
    "    html.Div(className='row',children = [\n",
    "        dcc.Dropdown(df['user_id'].unique(), id = 'dropdown_selection')\n",
    "    ]),\n",
    "    # html.H1(children='Title of Dash App', style={'textAlign':'center'}),\n",
    "\n",
    "\n",
    "    html.Div(className='row', children=[\n",
    "             html.Div(className='six columns', children=[\n",
    "                 dash_table.DataTable(data=df.to_dict('records'), page_size=11, style_table={'overflowX': 'auto'})\n",
    "             ]),\n",
    "             html.Div(className='six columns', children=[\n",
    "                 dcc.Graph(id='barchart_usersRFM')\n",
    "             ])\n",
    "\n",
    "        ])\n",
    "    ]\n",
    "\n",
    "@callback(\n",
    "    Output('barchart_usersRFM', 'figure'),\n",
    "    Input('dropdown_selection', 'value')\n",
    ")\n",
    "\n",
    "def update_bar_chart(value):\n",
    "    dff = df[df['user_id'] == value]\n",
    "    fig = px.bar(\n",
    "                x=['RNormScore', 'FNormScore', 'MNormScore'],\n",
    "                y=[dff['RNormScore'].iloc[0], dff['FNormScore'].iloc[0], dff['MNormScore'].iloc[0]],\n",
    "                labels={'x': 'Metric', 'y': 'Normalized Score'},\n",
    "                title=\"Normalized Scores\",\n",
    "                color_discrete_sequence=['lightgreen']\n",
    "            )\n",
    "    return fig\n",
    "\n",
    "\n",
    "if __name__ == '__main__':\n",
    "    app.run(debug=True)\n"
   ],
   "id": "3754601dd56e1a9",
   "outputs": [],
   "execution_count": null
  }
 ],
 "metadata": {
  "kernelspec": {
   "display_name": "Python 3",
   "language": "python",
   "name": "python3"
  },
  "language_info": {
   "codemirror_mode": {
    "name": "ipython",
    "version": 2
   },
   "file_extension": ".py",
   "mimetype": "text/x-python",
   "name": "python",
   "nbconvert_exporter": "python",
   "pygments_lexer": "ipython2",
   "version": "2.7.6"
  }
 },
 "nbformat": 4,
 "nbformat_minor": 5
}
