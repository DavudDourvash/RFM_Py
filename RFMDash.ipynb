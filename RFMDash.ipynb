{
 "cells": [
  {
   "metadata": {
    "jupyter": {
     "is_executing": true
    }
   },
   "cell_type": "code",
   "source": [
    "# Important : to make initial dataframe need to run RFMDash.ipynb and create TrainRFMRFMBL\n",
    "\n",
    "%run \"TrainInJupOnlineShopping.ipynb\"\n"
   ],
   "id": "cf656798365774a5",
   "outputs": [],
   "execution_count": null
  },
  {
   "metadata": {
    "ExecuteTime": {
     "end_time": "2025-04-20T11:57:09.941426Z",
     "start_time": "2025-04-20T11:57:08.599710Z"
    }
   },
   "cell_type": "code",
   "source": [
    "# Start Dash\n",
    "# !pip install jupyter-dash\n",
    "# !pip install dash-bootstrap-components\n",
    "# pip install dash_mantine_components\n",
    "\n",
    "import dash\n",
    "from dash import Dash, dcc, dash_table, dcc, callback, Output, Input\n",
    "import plotly.express as px\n",
    "import pandas as pd\n",
    "import dash_bootstrap_components as dbc\n",
    "from dash.dependencies import Input, Output\n",
    "import plotly.express as px\n",
    "import dash_mantine_components as dmc\n",
    "\n",
    "\n",
    "\n",
    "# from mainOnlineShopping import TrainRFMRFMBL"
   ],
   "id": "756b0b23f47fb21f",
   "outputs": [],
   "execution_count": 2
  },
  {
   "metadata": {
    "ExecuteTime": {
     "end_time": "2025-04-20T11:57:10.114673Z",
     "start_time": "2025-04-20T11:57:10.107679Z"
    }
   },
   "cell_type": "code",
   "source": "",
   "id": "bc942332d331997b",
   "outputs": [],
   "execution_count": null
  },
  {
   "metadata": {
    "ExecuteTime": {
     "end_time": "2025-04-20T11:57:10.208824Z",
     "start_time": "2025-04-20T11:57:10.202732Z"
    }
   },
   "cell_type": "code",
   "source": "",
   "id": "37b8d3dbedbe6a89",
   "outputs": [],
   "execution_count": null
  },
  {
   "metadata": {
    "ExecuteTime": {
     "end_time": "2025-04-20T11:57:10.256471Z",
     "start_time": "2025-04-20T11:57:10.252082Z"
    }
   },
   "cell_type": "code",
   "source": "",
   "id": "7721c2fb296a5d",
   "outputs": [],
   "execution_count": null
  },
  {
   "metadata": {
    "ExecuteTime": {
     "end_time": "2025-04-20T11:57:10.333370Z",
     "start_time": "2025-04-20T11:57:10.329057Z"
    }
   },
   "cell_type": "code",
   "source": [
    "## Start App\n",
    "import dash\n",
    "from dash import dcc, html\n",
    "from dash.dependencies import Input, Output\n",
    "import plotly.express as px\n",
    "import pandas as pd"
   ],
   "id": "6f33f77cc242a77c",
   "outputs": [],
   "execution_count": 3
  },
  {
   "metadata": {
    "ExecuteTime": {
     "end_time": "2025-04-20T11:57:10.375730Z",
     "start_time": "2025-04-20T11:57:10.370567Z"
    }
   },
   "cell_type": "code",
   "source": [
    "# app = dash.Dash(__name__)\n",
    "\n",
    "# unique of user ids\n",
    "# user_ids = TrainRFMRFMBL['user_id'].unique()"
   ],
   "id": "360f9df648e2d00b",
   "outputs": [],
   "execution_count": 4
  },
  {
   "metadata": {
    "ExecuteTime": {
     "end_time": "2025-04-20T11:57:10.389687Z",
     "start_time": "2025-04-20T11:57:10.380861Z"
    }
   },
   "cell_type": "code",
   "source": "# data = TrainRFMRFMBL[['user_id', 'R', 'F', 'M', 'RNormScore', 'FNormScore', 'MNormScore']]",
   "id": "9daf898468d6f58",
   "outputs": [],
   "execution_count": 5
  },
  {
   "metadata": {
    "ExecuteTime": {
     "end_time": "2025-04-20T11:57:12.158889Z",
     "start_time": "2025-04-20T11:57:11.837541Z"
    }
   },
   "cell_type": "code",
   "source": [
    "import dash\n",
    "from dash import dcc, html\n",
    "from dash.dependencies import Input, Output, State\n",
    "import pandas as pd\n",
    "import plotly.express as px\n",
    "\n",
    "# فرض می‌کنیم TrainRFMRFMBL قبلاً تعریف شده است.\n",
    "data = TrainRFMRFMBL[['user_id', 'R', 'F', 'M', 'RNormScore', 'FNormScore', 'MNormScore']]\n",
    "\n",
    "# تبدیل داده به DataFrame\n",
    "df = pd.DataFrame(data)\n",
    "\n",
    "# ساخت اپلیکیشن Dash\n",
    "app = dash.Dash(__name__)\n",
    "\n",
    "app.layout = html.Div([\n",
    "    # نوار بالای داشبورد\n",
    "    html.Div(\n",
    "        children=\"مانیتورینگ رفتار مشتریان\",\n",
    "        style={\n",
    "            'backgroundColor': 'lightblue',\n",
    "            'padding': '10px',\n",
    "            'fontSize': '20px',\n",
    "            'textAlign': 'center',\n",
    "            'fontWeight': 'bold'\n",
    "        }\n",
    "    ),\n",
    "\n",
    "    # لای اوت اصلی با دو بخش: تب‌ها و محتویات\n",
    "    html.Div([\n",
    "        # نوار تب‌ها\n",
    "        dcc.Tabs(id='tabs', value='tab1', children=[\n",
    "            dcc.Tab(label='tab1', value='tab1'),\n",
    "            dcc.Tab(label='tab2', value='tab2'),\n",
    "            dcc.Tab(label='tab3', value='tab3'),\n",
    "            dcc.Tab(label='tab4', value='tab4'),\n",
    "        ], style={'width': '20%', 'display': 'inline-block', 'verticalAlign': 'top'}),\n",
    "\n",
    "        # محتویات تب‌ها\n",
    "        html.Div(id='tab-content', style={'width': '75%', 'display': 'inline-block'})\n",
    "    ], style={'display': 'flex'})\n",
    "])\n",
    "\n",
    "# محتویات هر تب\n",
    "@app.callback(\n",
    "    Output('tab-content', 'children'),\n",
    "    [Input('tabs', 'value'),\n",
    "     State('user-id-dropdown', 'value')]\n",
    ")\n",
    "def render_tab(tab, selected_user_id):\n",
    "    if tab == 'tab1':\n",
    "        # فقط زمانی که به تب1 می‌رویم، dropdown ایجاد می‌شود\n",
    "        dropdown = dcc.Dropdown(\n",
    "            id='user-id-dropdown',\n",
    "            options=[{'label': i, 'value': i} for i in df['user_id'].unique()],\n",
    "            value=selected_user_id if selected_user_id else df['user_id'].iloc[0],  # مقدار اولیه\n",
    "        )\n",
    "\n",
    "        if selected_user_id:\n",
    "            user_data = df[df['user_id'] == selected_user_id].iloc[0]\n",
    "            # جدول برای R, F, M\n",
    "            table = html.Table([\n",
    "                html.Tr([html.Th(\"Feature\"), html.Th(\"Value\")]),\n",
    "                html.Tr([html.Td(\"R\"), html.Td(user_data['R'])]),\n",
    "                html.Tr([html.Td(\"F\"), html.Td(user_data['F'])]),\n",
    "                html.Tr([html.Td(\"M\"), html.Td(user_data['M'])]),\n",
    "            ])\n"
   ],
   "id": "d0fc53776448e4f1",
   "outputs": [],
   "execution_count": 6
  },
  {
   "metadata": {},
   "cell_type": "code",
   "source": "",
   "id": "5a07bdddeab3c208",
   "outputs": [],
   "execution_count": null
  },
  {
   "metadata": {},
   "cell_type": "code",
   "source": "",
   "id": "91e632c901f1ca66",
   "outputs": [],
   "execution_count": null
  },
  {
   "metadata": {},
   "cell_type": "code",
   "source": "",
   "id": "23177747c75f1bcc",
   "outputs": [],
   "execution_count": null
  },
  {
   "metadata": {},
   "cell_type": "code",
   "source": "",
   "id": "431d96f49ca7b8d5",
   "outputs": [],
   "execution_count": null
  },
  {
   "metadata": {},
   "cell_type": "code",
   "source": "",
   "id": "c40bb200b77b9081",
   "outputs": [],
   "execution_count": null
  },
  {
   "metadata": {},
   "cell_type": "code",
   "source": "",
   "id": "9a68a9a2e4cdc57",
   "outputs": [],
   "execution_count": null
  },
  {
   "metadata": {},
   "cell_type": "code",
   "source": "",
   "id": "b7aefa3339ed01c3",
   "outputs": [],
   "execution_count": null
  },
  {
   "metadata": {},
   "cell_type": "code",
   "source": "",
   "id": "4152fb355f999c2b",
   "outputs": [],
   "execution_count": null
  }
 ],
 "metadata": {
  "kernelspec": {
   "display_name": "Python 3",
   "language": "python",
   "name": "python3"
  },
  "language_info": {
   "codemirror_mode": {
    "name": "ipython",
    "version": 2
   },
   "file_extension": ".py",
   "mimetype": "text/x-python",
   "name": "python",
   "nbconvert_exporter": "python",
   "pygments_lexer": "ipython2",
   "version": "2.7.6"
  }
 },
 "nbformat": 4,
 "nbformat_minor": 5
}
