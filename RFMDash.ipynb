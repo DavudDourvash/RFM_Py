{
 "cells": [
  {
   "metadata": {
    "ExecuteTime": {
     "end_time": "2025-04-20T14:02:17.235223Z",
     "start_time": "2025-04-20T14:01:52.257781Z"
    }
   },
   "cell_type": "code",
   "source": [
    "# Important : to make initial dataframe need to run RFMDash.ipynb and create TrainRFMRFMBL\n",
    "\n",
    "%run \"TrainInJupOnlineShopping.ipynb\"\n"
   ],
   "id": "cf656798365774a5",
   "outputs": [
    {
     "name": "stderr",
     "output_type": "stream",
     "text": [
      "C:\\Users\\BiG\\AppData\\Local\\Temp\\ipykernel_5880\\2681434285.py:4: SettingWithCopyWarning: \n",
      "A value is trying to be set on a copy of a slice from a DataFrame.\n",
      "Try using .loc[row_indexer,col_indexer] = value instead\n",
      "\n",
      "See the caveats in the documentation: https://pandas.pydata.org/pandas-docs/stable/user_guide/indexing.html#returning-a-view-versus-a-copy\n",
      "  DimDateS[\"Miladi3\"] = DimDateS[\"Miladi3\"].astype(str)\n",
      "C:\\Users\\BiG\\AppData\\Local\\Temp\\ipykernel_5880\\2681434285.py:5: SettingWithCopyWarning: \n",
      "A value is trying to be set on a copy of a slice from a DataFrame\n",
      "\n",
      "See the caveats in the documentation: https://pandas.pydata.org/pandas-docs/stable/user_guide/indexing.html#returning-a-view-versus-a-copy\n",
      "  DimDateS.rename(columns={\"Miladi3\": \"date_CHR\"}, inplace=True)\n"
     ]
    },
    {
     "name": "stdout",
     "output_type": "stream",
     "text": [
      "Index(['_id', 'user_id', 'date', 'client_type', 'status', 'payment_status',\n",
      "       'type', 'module', 'product_name', 'initial_total', 'product_price',\n",
      "       'converted_value', 'qty', 'module_unit_price', 'Amount_in_dollars',\n",
      "       'first_purchased', 'date_CHR', 'Jalali_1', 'Shamsi_Date_Num'],\n",
      "      dtype='object')\n",
      "(503726, 19)\n"
     ]
    }
   ],
   "execution_count": 1
  },
  {
   "metadata": {
    "ExecuteTime": {
     "end_time": "2025-04-20T13:44:16.697999Z",
     "start_time": "2025-04-20T13:44:16.688604Z"
    }
   },
   "cell_type": "code",
   "source": "# pip install builtins",
   "id": "2f567bc1e001067b",
   "outputs": [],
   "execution_count": 2
  },
  {
   "metadata": {
    "ExecuteTime": {
     "end_time": "2025-04-20T13:44:16.886443Z",
     "start_time": "2025-04-20T13:44:16.881636Z"
    }
   },
   "cell_type": "code",
   "source": [
    "# Start Dash\n",
    "# !pip install jupyter-dash\n",
    "# !pip install dash-bootstrap-components\n",
    "# pip install dash_mantine_components\n",
    "\n",
    "# import dash\n",
    "# from dash import Dash, dcc, dash_table, dcc, callback, Output, Input\n",
    "# import plotly.express as px\n",
    "# import pandas as pd\n",
    "# import dash_bootstrap_components as dbc\n",
    "# from dash.dependencies import Input, Output\n",
    "# import plotly.express as px\n",
    "# import dash_mantine_components as dmc\n"
   ],
   "id": "756b0b23f47fb21f",
   "outputs": [],
   "execution_count": 3
  },
  {
   "metadata": {
    "ExecuteTime": {
     "end_time": "2025-04-20T13:44:16.896067Z",
     "start_time": "2025-04-20T13:44:16.886443Z"
    }
   },
   "cell_type": "code",
   "source": [
    "# # لیست تمام متغیرهای موجود را می‌گیریم\n",
    "# all_variables = list(globals().keys())\n",
    "#\n",
    "# # حذف متغیرهایی که نامشان 'df' نیست\n",
    "# for var in all_variables:\n",
    "#     if var != 'TrainRFMRFMBL':\n",
    "#         del globals()[var]"
   ],
   "id": "523d51414aaa2d80",
   "outputs": [],
   "execution_count": 4
  },
  {
   "metadata": {
    "ExecuteTime": {
     "end_time": "2025-04-20T13:45:17.417089Z",
     "start_time": "2025-04-20T13:45:17.399098Z"
    }
   },
   "cell_type": "code",
   "source": [
    "import pandas as pd\n",
    "data = TrainRFMRFMBL[['user_id', 'R', 'F', 'M', 'RNormScore', 'FNormScore', 'MNormScore']]\n",
    "# df = pd.DataFrame(data)"
   ],
   "id": "32c161819d609c9d",
   "outputs": [],
   "execution_count": 5
  },
  {
   "metadata": {
    "ExecuteTime": {
     "end_time": "2025-04-20T13:45:18.287729Z",
     "start_time": "2025-04-20T13:45:18.271923Z"
    }
   },
   "cell_type": "code",
   "source": "data['user_id'].iloc[1:3]",
   "id": "af7275fae8819b05",
   "outputs": [
    {
     "data": {
      "text/plain": [
       "1    60affeb1d7651d2f521e158e\n",
       "2    60affeb1d7651d2f521e1591\n",
       "Name: user_id, dtype: object"
      ]
     },
     "execution_count": 6,
     "metadata": {},
     "output_type": "execute_result"
    }
   ],
   "execution_count": 6
  },
  {
   "metadata": {
    "ExecuteTime": {
     "end_time": "2025-04-20T13:45:37.176591Z",
     "start_time": "2025-04-20T13:45:36.921039Z"
    }
   },
   "cell_type": "code",
   "source": "df = pd.DataFrame(data)",
   "id": "3bc1fb4762a02c13",
   "outputs": [],
   "execution_count": 7
  },
  {
   "metadata": {
    "ExecuteTime": {
     "end_time": "2025-04-20T13:45:46.204159Z",
     "start_time": "2025-04-20T13:45:46.195796Z"
    }
   },
   "cell_type": "code",
   "source": "df['user_id'].iloc[1:3]\n",
   "id": "efadbab30d1395a4",
   "outputs": [
    {
     "data": {
      "text/plain": [
       "1    60affeb1d7651d2f521e158e\n",
       "2    60affeb1d7651d2f521e1591\n",
       "Name: user_id, dtype: object"
      ]
     },
     "execution_count": 8,
     "metadata": {},
     "output_type": "execute_result"
    }
   ],
   "execution_count": 8
  },
  {
   "metadata": {
    "ExecuteTime": {
     "end_time": "2025-04-20T13:45:53.214646Z",
     "start_time": "2025-04-20T13:45:53.201633Z"
    }
   },
   "cell_type": "code",
   "source": "'user_id' in df.columns\n",
   "id": "13986467a4398db0",
   "outputs": [
    {
     "data": {
      "text/plain": [
       "True"
      ]
     },
     "execution_count": 9,
     "metadata": {},
     "output_type": "execute_result"
    }
   ],
   "execution_count": 9
  },
  {
   "metadata": {
    "ExecuteTime": {
     "end_time": "2025-04-20T13:45:57.926763Z",
     "start_time": "2025-04-20T13:45:57.386547Z"
    }
   },
   "cell_type": "code",
   "source": [
    "\n",
    "import dash_html_components as html"
   ],
   "id": "117c41ddef26ad6d",
   "outputs": [
    {
     "name": "stderr",
     "output_type": "stream",
     "text": [
      "C:\\Users\\BiG\\AppData\\Local\\Temp\\ipykernel_13384\\4188904192.py:1: UserWarning: \n",
      "The dash_html_components package is deprecated. Please replace\n",
      "`import dash_html_components as html` with `from dash import html`\n",
      "  import dash_html_components as html\n"
     ]
    }
   ],
   "execution_count": 10
  },
  {
   "metadata": {
    "jupyter": {
     "is_executing": true
    }
   },
   "cell_type": "code",
   "source": [
    "from dash import Dash, html, dcc, callback, Output, Input\n",
    "import plotly.express as px\n",
    "import pandas as pd\n",
    "\n",
    "app = Dash()\n",
    "\n",
    "\n",
    "app.layout = html.Div([\n",
    "    # html.Div(\n",
    "    #     children=\"مانیتورینگ رفتار پویای مشتریان\", #/# Add Font next\n",
    "    #     style={\n",
    "    #         'backgroundColor': 'lightblue',\n",
    "    #         'padding': '10px',\n",
    "    #         'fontSize': '20px',\n",
    "    #         'textAlign': 'center',\n",
    "    #         'fontWeight': 'bold'\n",
    "    #     }\n",
    "    # ),\n",
    "    html.H1(children='Title of Dash App', style={'textAlign':'center'}),\n",
    "    dcc.Dropdown(df['user_id'].unique(), id = 'dropdown_selection'),\n",
    "    dcc.Graph(id='barchart_usersRFM')\n",
    "])\n",
    "\n",
    "@callback(\n",
    "    Output('barchart_usersRFM', 'figure'),\n",
    "    Input('dropdown_selection', 'value')\n",
    ")\n",
    "\n",
    "def update_bar_chart(value):\n",
    "    dff = df[df['user_id'] == value]\n",
    "    fig = px.bar(\n",
    "                x=['RNormScore', 'FNormScore', 'MNormScore'],\n",
    "                y=[dff['RNormScore'].iloc[0], dff['FNormScore'].iloc[0], dff['MNormScore'].iloc[0]],\n",
    "                labels={'x': 'Metric', 'y': 'Normalized Score'},\n",
    "                title=\"Normalized Scores\",\n",
    "                color_discrete_sequence=['lightgreen']\n",
    "            )\n",
    "    return fig\n",
    "\n",
    "\n",
    "if __name__ == '__main__':\n",
    "    app.run(debug=True)\n"
   ],
   "id": "53b2f8500d9b0ce7",
   "outputs": [],
   "execution_count": null
  },
  {
   "metadata": {
    "ExecuteTime": {
     "end_time": "2025-04-20T13:28:18.795100Z",
     "start_time": "2025-04-20T13:28:18.737053Z"
    }
   },
   "cell_type": "code",
   "source": [
    "import dash\n",
    "from dash import dcc, html\n",
    "from dash.dependencies import Input, Output\n",
    "import pandas as pd\n",
    "import plotly.express as px\n",
    "\n",
    "# فرض می‌کنیم TrainRFMRFMBL قبلاً تعریف شده است.\n",
    "data = TrainRFMRFMBL[['user_id', 'R', 'F', 'M', 'RNormScore', 'FNormScore', 'MNormScore']]\n",
    "\n",
    "# تبدیل داده به DataFrame\n",
    "df = pd.DataFrame(data)\n",
    "\n",
    "# ساخت اپلیکیشن Dash\n",
    "app = dash.Dash(__name__, suppress_callback_exceptions=True)  # اضافه کردن این گزینه\n",
    "\n",
    "app.layout = html.Div([\n",
    "    # نوار بالای داشبورد\n",
    "    html.Div(\n",
    "        children=\"مانیتورینگ رفتار مشتریان\",\n",
    "        style={\n",
    "            'backgroundColor': 'lightblue',\n",
    "            'padding': '10px',\n",
    "            'fontSize': '20px',\n",
    "            'textAlign': 'center',\n",
    "            'fontWeight': 'bold'\n",
    "        }\n",
    "    ),\n",
    "\n",
    "    # لای اوت اصلی با دو بخش: تب‌ها و محتویات\n",
    "    html.Div([\n",
    "        # نوار تب‌ها\n",
    "        dcc.Tabs(id='tabs', value='tab1', children=[\n",
    "            dcc.Tab(label='tab1', value='tab1'),\n",
    "            dcc.Tab(label='tab2', value='tab2'),\n",
    "            dcc.Tab(label='tab3', value='tab3'),\n",
    "            dcc.Tab(label='tab4', value='tab4'),\n",
    "        ], style={'width': '20%', 'display': 'inline-block', 'verticalAlign': 'top'}),\n",
    "\n",
    "        # محتویات تب‌ها\n",
    "        html.Div(id='tab-content', style={'width': '75%', 'display': 'inline-block'})\n",
    "    ], style={'display': 'flex'})\n",
    "])\n",
    "\n",
    "# محتویات هر تب\n",
    "@app.callback(\n",
    "    Output('tab-content', 'children'),\n",
    "    Input('tabs', 'value')\n",
    ")\n",
    "def render_tab(tab):\n",
    "    if tab == 'tab1':\n",
    "        dropdown = dcc.Dropdown(\n",
    "            id='user-id-dropdown',\n",
    "            options=[{'label': i, 'value': i} for i in df['user_id'].unique()],\n",
    "            value=df['user_id'].iloc[0],  # مقدار اولیه\n",
    "        )\n",
    "\n",
    "        # جدول برای R, F, M\n",
    "        table = html.Table([\n",
    "            html.Tr([html.Th(\"Feature\"), html.Th(\"Value\")]),\n",
    "            html.Tr([html.Td(\"R\"), html.Td(df['R'].iloc[0])]),\n",
    "            html.Tr([html.Td(\"F\"), html.Td(df['F'].iloc[0])]),\n",
    "            html.Tr([html.Td(\"M\"), html.Td(df['M'].iloc[0])]),\n",
    "        ])\n",
    "\n",
    "        # بارچارت برای RNormScore, FNormScore, MNormScore\n",
    "        bar_chart = dcc.Graph(\n",
    "            figure=px.bar(\n",
    "                x=['RNormScore', 'FNormScore', 'MNormScore'],\n",
    "                y=[df['RNormScore'].iloc[0], df['FNormScore'].iloc[0], df['MNormScore'].iloc[0]],\n",
    "                labels={'x': 'Metric', 'y': 'Normalized Score'},\n",
    "                title=\"Normalized Scores\",\n",
    "                color_discrete_sequence=['lightgreen']\n",
    "            )\n",
    "        )\n",
    "\n",
    "        return html.Div([\n",
    "            # پنل کرکره ای\n",
    "            html.Div([\n",
    "                html.Label('Select User ID'),\n",
    "                dropdown\n",
    "            ], style={'width': '30%', 'padding': '10px', 'display': 'inline-block'}),\n",
    "\n",
    "            # پنل‌های عمودی\n",
    "            html.Div([\n",
    "                # پنل چپ (جدول)\n",
    "                html.Div([table], style={'width': '48%', 'display': 'inline-block', 'verticalAlign': 'top'}),\n",
    "                # پنل راست (بارچارت)\n",
    "                html.Div([bar_chart], style={'width': '48%', 'display': 'inline-block', 'verticalAlign': 'top'})\n",
    "            ], style={'display': 'flex', 'justifyContent': 'space-between'})\n",
    "        ])\n",
    "    elif tab == 'tab2':\n",
    "        return html.Div(\"Content for tab2\")\n",
    "    elif tab == 'tab3':\n",
    "        return html.Div(\"Content for tab3\")\n",
    "    elif tab == 'tab4':\n",
    "        return html.Div(\"Content for tab4\")\n",
    "\n",
    "if __name__ == '__main__':\n",
    "    app.run_server(debug=True)\n"
   ],
   "id": "d0fc53776448e4f1",
   "outputs": [
    {
     "ename": "NameError",
     "evalue": "name 'TrainRFMRFMBL' is not defined",
     "output_type": "error",
     "traceback": [
      "\u001B[1;31m---------------------------------------------------------------------------\u001B[0m",
      "\u001B[1;31mNameError\u001B[0m                                 Traceback (most recent call last)",
      "Cell \u001B[1;32mIn[2], line 8\u001B[0m\n\u001B[0;32m      5\u001B[0m \u001B[38;5;28;01mimport\u001B[39;00m \u001B[38;5;21;01mplotly\u001B[39;00m\u001B[38;5;21;01m.\u001B[39;00m\u001B[38;5;21;01mexpress\u001B[39;00m \u001B[38;5;28;01mas\u001B[39;00m \u001B[38;5;21;01mpx\u001B[39;00m\n\u001B[0;32m      7\u001B[0m \u001B[38;5;66;03m# فرض می‌کنیم TrainRFMRFMBL قبلاً تعریف شده است.\u001B[39;00m\n\u001B[1;32m----> 8\u001B[0m data \u001B[38;5;241m=\u001B[39m TrainRFMRFMBL[[\u001B[38;5;124m'\u001B[39m\u001B[38;5;124muser_id\u001B[39m\u001B[38;5;124m'\u001B[39m, \u001B[38;5;124m'\u001B[39m\u001B[38;5;124mR\u001B[39m\u001B[38;5;124m'\u001B[39m, \u001B[38;5;124m'\u001B[39m\u001B[38;5;124mF\u001B[39m\u001B[38;5;124m'\u001B[39m, \u001B[38;5;124m'\u001B[39m\u001B[38;5;124mM\u001B[39m\u001B[38;5;124m'\u001B[39m, \u001B[38;5;124m'\u001B[39m\u001B[38;5;124mRNormScore\u001B[39m\u001B[38;5;124m'\u001B[39m, \u001B[38;5;124m'\u001B[39m\u001B[38;5;124mFNormScore\u001B[39m\u001B[38;5;124m'\u001B[39m, \u001B[38;5;124m'\u001B[39m\u001B[38;5;124mMNormScore\u001B[39m\u001B[38;5;124m'\u001B[39m]]\n\u001B[0;32m     10\u001B[0m \u001B[38;5;66;03m# تبدیل داده به DataFrame\u001B[39;00m\n\u001B[0;32m     11\u001B[0m df \u001B[38;5;241m=\u001B[39m pd\u001B[38;5;241m.\u001B[39mDataFrame(data)\n",
      "\u001B[1;31mNameError\u001B[0m: name 'TrainRFMRFMBL' is not defined"
     ]
    }
   ],
   "execution_count": 2
  },
  {
   "metadata": {},
   "cell_type": "code",
   "source": "",
   "id": "5a07bdddeab3c208",
   "outputs": [],
   "execution_count": null
  },
  {
   "metadata": {},
   "cell_type": "code",
   "source": "",
   "id": "91e632c901f1ca66",
   "outputs": [],
   "execution_count": null
  },
  {
   "metadata": {},
   "cell_type": "code",
   "source": "",
   "id": "23177747c75f1bcc",
   "outputs": [],
   "execution_count": null
  },
  {
   "metadata": {},
   "cell_type": "code",
   "source": "",
   "id": "431d96f49ca7b8d5",
   "outputs": [],
   "execution_count": null
  },
  {
   "metadata": {},
   "cell_type": "code",
   "source": "",
   "id": "c40bb200b77b9081",
   "outputs": [],
   "execution_count": null
  },
  {
   "metadata": {},
   "cell_type": "code",
   "source": "",
   "id": "9a68a9a2e4cdc57",
   "outputs": [],
   "execution_count": null
  },
  {
   "metadata": {},
   "cell_type": "code",
   "source": "",
   "id": "b7aefa3339ed01c3",
   "outputs": [],
   "execution_count": null
  },
  {
   "metadata": {},
   "cell_type": "code",
   "source": "",
   "id": "4152fb355f999c2b",
   "outputs": [],
   "execution_count": null
  }
 ],
 "metadata": {
  "kernelspec": {
   "display_name": "Python 3",
   "language": "python",
   "name": "python3"
  },
  "language_info": {
   "codemirror_mode": {
    "name": "ipython",
    "version": 2
   },
   "file_extension": ".py",
   "mimetype": "text/x-python",
   "name": "python",
   "nbconvert_exporter": "python",
   "pygments_lexer": "ipython2",
   "version": "2.7.6"
  }
 },
 "nbformat": 4,
 "nbformat_minor": 5
}
